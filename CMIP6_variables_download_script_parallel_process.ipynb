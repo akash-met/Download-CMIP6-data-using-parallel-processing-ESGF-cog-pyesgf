{
 "cells": [
  {
   "cell_type": "markdown",
   "metadata": {},
   "source": [
    "# Download CMIP6 model data"
   ]
  },
  {
   "cell_type": "markdown",
   "metadata": {
    "heading_collapsed": true
   },
   "source": [
    "# Importing all"
   ]
  },
  {
   "cell_type": "markdown",
   "metadata": {
    "hidden": true
   },
   "source": [
    "### Install Essential Libraries needed and Import"
   ]
  },
  {
   "cell_type": "code",
   "execution_count": 6,
   "metadata": {
    "ExecuteTime": {
     "end_time": "2023-07-29T02:26:33.154137Z",
     "start_time": "2023-07-29T02:26:33.151694Z"
    },
    "hidden": true
   },
   "outputs": [],
   "source": [
    "# !pip install --upgrade pip\n",
    "# !pip install esgf-pyclient\n",
    "# !conda install -c conda-forge esgf-pyclient\n",
    "# !pip install MyProxyClient==2.1.0\n",
    "\n",
    "# !conda install -c conda-forge myproxyclient\n",
    "# !conda install -c conda-forge/label/cf201901 myproxyclient\n",
    "# !conda install -c conda-forge/label/cf202003 myproxyclient\n",
    "# !pip install pandas\n",
    "# !pip install numpy\n",
    "# !pip install os-sys\n",
    "# !pip install urllib3\n",
    "# !pip3 install urllib3\n",
    "\n",
    "# !conda install -c conda-forge python-cdo\n",
    "# !pip install cdo\n",
    "# !conda install -c conda-forge xarray dask netCDF4 bottleneck\n",
    "# !pip install xarray\n",
    "# !pip install progressbar"
   ]
  },
  {
   "cell_type": "code",
   "execution_count": null,
   "metadata": {
    "ExecuteTime": {
     "end_time": "2023-07-21T23:59:12.341504Z",
     "start_time": "2023-07-21T23:59:12.117803Z"
    },
    "hidden": true
   },
   "outputs": [],
   "source": []
  },
  {
   "cell_type": "code",
   "execution_count": 7,
   "metadata": {
    "ExecuteTime": {
     "end_time": "2023-07-29T02:26:33.160080Z",
     "start_time": "2023-07-29T02:26:33.157743Z"
    },
    "hidden": true
   },
   "outputs": [],
   "source": [
    "import pandas as pd\n",
    "import numpy as np\n",
    "import os"
   ]
  },
  {
   "cell_type": "code",
   "execution_count": 103,
   "metadata": {
    "ExecuteTime": {
     "end_time": "2023-07-29T06:00:13.090866Z",
     "start_time": "2023-07-29T06:00:12.885482Z"
    },
    "hidden": true
   },
   "outputs": [
    {
     "data": {
      "application/vnd.jupyter.widget-view+json": {
       "model_id": "379eec9fcb9e4670b36d526edfac7afe",
       "version_major": 2,
       "version_minor": 0
      },
      "text/plain": [
       "  0%|          | 0/100 [00:00<?, ?it/s]"
      ]
     },
     "metadata": {},
     "output_type": "display_data"
    },
    {
     "data": {
      "text/html": [
       "<style>.container {width:100% !important; }</style>"
      ],
      "text/plain": [
       "<IPython.core.display.HTML object>"
      ]
     },
     "metadata": {},
     "output_type": "display_data"
    }
   ],
   "source": [
    "import urllib.parse as urlparse\n",
    "import urllib.request\n",
    "import urllib\n",
    "from urllib import *\n",
    "import os.path\n",
    "from os import path\n",
    "from urllib.error import HTTPError\n",
    "from urllib.request import HTTPError\n",
    "#\n",
    "import progressbar\n",
    "import urllib3\n",
    "from urllib import request\n",
    "from urllib3 import request\n",
    "from urllib.request import urlretrieve\n",
    "import IPython\n",
    "from tqdm.notebook import tqdm as tqdm\n",
    "# from tqdm import tqdm\n",
    "# Please use `tqdm.notebook.tqdm` instead of `tqdm.tqdm_notebook`\n",
    "for x in tqdm(range(100)):\n",
    "    pass\n",
    "from IPython.core.display import display, HTML\n",
    "display(HTML(\"<style>.container {width:100% !important; }</style>\"))\n",
    "from pathlib import Path\n",
    "from glob import glob\n",
    "import os\n",
    "from termcolor import colored\n",
    "\n",
    "\n",
    "from cdo import *   # python version\n",
    "cdo = Cdo()\n",
    "import itertools\n",
    "from os import listdir\n",
    "from os.path import isfile, join\n",
    "import re\n",
    "import glob\n",
    "import os\n",
    "import shutil\n",
    "import time\n",
    "from functools import wraps\n",
    "from pyesgf.logon import LogonManager"
   ]
  },
  {
   "cell_type": "markdown",
   "metadata": {
    "hidden": true
   },
   "source": [
    "### Define retry function"
   ]
  },
  {
   "cell_type": "code",
   "execution_count": 9,
   "metadata": {
    "ExecuteTime": {
     "end_time": "2023-07-29T02:26:33.287844Z",
     "start_time": "2023-07-29T02:26:33.283499Z"
    },
    "hidden": true
   },
   "outputs": [],
   "source": [
    "import time\n",
    "from functools import wraps\n",
    "\n",
    "\n",
    "def retry(ExceptionToCheck, tries=4, delay=3, backoff=2, logger=None):\n",
    "    \"\"\"Retry calling the decorated function using an exponential backoff.\n",
    "\n",
    "    http://www.saltycrane.com/blog/2009/11/trying-out-retry-decorator-python/\n",
    "    original from: http://wiki.python.org/moin/PythonDecoratorLibrary#Retry\n",
    "\n",
    "    :param ExceptionToCheck: the exception to check. may be a tuple of\n",
    "        exceptions to check\n",
    "    :type ExceptionToCheck: Exception or tuple\n",
    "    :param tries: number of times to try (not retry) before giving up\n",
    "    :type tries: int\n",
    "    :param delay: initial delay between retries in seconds\n",
    "    :type delay: int\n",
    "    :param backoff: backoff multiplier e.g. value of 2 will double the delay\n",
    "        each retry\n",
    "    :type backoff: int\n",
    "    :param logger: logger to use. If None, print\n",
    "    :type logger: logging.Logger instance\n",
    "    \"\"\"\n",
    "    def deco_retry(f):\n",
    "\n",
    "        @wraps(f)\n",
    "        def f_retry(*args, **kwargs):\n",
    "            mtries, mdelay = tries, delay\n",
    "            while mtries > 1:\n",
    "                try:\n",
    "                    return f(*args, **kwargs)\n",
    "                except ExceptionToCheck as e:\n",
    "                    msg = \"%s, Retrying in %d seconds...\" % (str(e), mdelay)\n",
    "                    if logger:\n",
    "                        logger.warning(msg)\n",
    "                    else:\n",
    "                        print(msg)\n",
    "                    time.sleep(mdelay)\n",
    "                    mtries -= 1\n",
    "                    mdelay *= backoff\n",
    "            return f(*args, **kwargs)\n",
    "\n",
    "        return f_retry  # true decorator\n",
    "\n",
    "    return deco_retry"
   ]
  },
  {
   "cell_type": "markdown",
   "metadata": {},
   "source": [
    "# Searching the data in esgf-node.llnl.gov"
   ]
  },
  {
   "cell_type": "code",
   "execution_count": 10,
   "metadata": {
    "ExecuteTime": {
     "end_time": "2023-07-29T02:26:33.339339Z",
     "start_time": "2023-07-29T02:26:33.288764Z"
    }
   },
   "outputs": [
    {
     "data": {
      "text/plain": [
       "False"
      ]
     },
     "execution_count": 10,
     "metadata": {},
     "output_type": "execute_result"
    }
   ],
   "source": [
    "from pyesgf.logon import LogonManager\n",
    "lm = LogonManager()\n",
    "lm.logoff()\n",
    "lm.is_logged_on() #checking whetherlogged in or not in esgf-node.llnl.gov"
   ]
  },
  {
   "cell_type": "raw",
   "metadata": {},
   "source": [
    "The below shell is to login using this interface , but not neeeded to download CMIP6"
   ]
  },
  {
   "cell_type": "raw",
   "metadata": {},
   "source": [
    "myproxy_host = 'esgf-node.llnl.gov'\n",
    "lm.logon(hostname=myproxy_host, interactive=True, bootstrap=True)\n",
    "lm.is_logged_on() #login using your user name(not openID) and password (eg: user name:- akash.pathaikra)"
   ]
  },
  {
   "cell_type": "markdown",
   "metadata": {},
   "source": [
    "## Search using keywords"
   ]
  },
  {
   "cell_type": "code",
   "execution_count": 11,
   "metadata": {
    "ExecuteTime": {
     "end_time": "2023-07-29T02:26:33.394430Z",
     "start_time": "2023-07-29T02:26:33.340507Z"
    }
   },
   "outputs": [],
   "source": [
    "#http://esgf-index1.ceda.ac.uk/esg-search\n",
    "#https://esgf-node.llnl.gov/search/cmip6/\n",
    "#https://esgf-data.dkrz.de/esg-search\n",
    "from pyesgf.search import SearchConnection\n",
    "conn = SearchConnection('https://esgf-data.dkrz.de/esg-search', distrib=True) # gives results from less data nodes\n",
    "conn = SearchConnection('https://esgf-node.llnl.gov/esg-search', distrib=True) # gives results from more data nodes\n"
   ]
  },
  {
   "cell_type": "code",
   "execution_count": 12,
   "metadata": {
    "ExecuteTime": {
     "end_time": "2023-07-29T02:26:33.397543Z",
     "start_time": "2023-07-29T02:26:33.395319Z"
    }
   },
   "outputs": [],
   "source": [
    "variables=['tos']# for multiple variables-> ['ua','va']\n",
    "root_fldr= '/media/akash/POSTDOC_WORK/akash_works/DATASET_main/CMIP6/download_unavailable_models_in_hpc/'\n",
    "\n",
    "Path(f'{root_fldr}merged_data/').mkdir(parents=True, exist_ok=True) # create raw_data and merged_data directories\n",
    "Path(f'{root_fldr}raw_data/').mkdir(parents=True, exist_ok=True)\n"
   ]
  },
  {
   "cell_type": "code",
   "execution_count": null,
   "metadata": {
    "ExecuteTime": {
     "end_time": "2023-07-22T02:10:42.435058Z",
     "start_time": "2023-07-22T02:10:42.431979Z"
    }
   },
   "outputs": [],
   "source": []
  },
  {
   "cell_type": "code",
   "execution_count": 13,
   "metadata": {
    "ExecuteTime": {
     "end_time": "2023-07-29T02:26:33.401274Z",
     "start_time": "2023-07-29T02:26:33.398334Z"
    }
   },
   "outputs": [
    {
     "name": "stdout",
     "output_type": "stream",
     "text": [
      "CMIP6_multivar_ua,va_links-historical.txt\n"
     ]
    }
   ],
   "source": [
    "backup_file_name=f\"CMIP6_multivar_{(',').join(variables)}_links-historical.txt\" # here we will save all the links to downlad models\n",
    "# backup_file_name=f\"temp.txt\" # here we will save all the links to downlad models\n",
    "\n",
    "print(backup_file_name)"
   ]
  },
  {
   "cell_type": "code",
   "execution_count": null,
   "metadata": {},
   "outputs": [],
   "source": []
  },
  {
   "cell_type": "code",
   "execution_count": 90,
   "metadata": {
    "ExecuteTime": {
     "end_time": "2023-07-29T05:41:35.480190Z",
     "start_time": "2023-07-29T05:41:33.049730Z"
    },
    "scrolled": true
   },
   "outputs": [
    {
     "name": "stderr",
     "output_type": "stream",
     "text": [
      "\n",
      "-------------------------------------------------------------------------------\n",
      "Warning - defaulting to search with facets=*\n",
      "\n",
      "This behavior is kept for backward-compatibility, but ESGF indexes might not\n",
      "successfully perform a distributed search when this option is used, so some\n",
      "results may be missing.  For full results, it is recommended to pass a list of\n",
      "facets of interest when instantiating a context object.  For example,\n",
      "\n",
      "      ctx = conn.new_context(facets='project,experiment_id')\n",
      "\n",
      "Only the facets that you specify will be present in the facets_counts dictionary.\n",
      "\n",
      "This warning is displayed when a distributed search is performed while using the\n",
      "facets=* default, a maximum of once per context object.  To suppress this warning,\n",
      "set the environment variable ESGF_PYCLIENT_NO_FACETS_STAR_WARNING to any value\n",
      "or explicitly use  conn.new_context(facets='*')\n",
      "\n",
      "-------------------------------------------------------------------------------\n"
     ]
    },
    {
     "name": "stdout",
     "output_type": "stream",
     "text": [
      "Hits: 14\n",
      "table_id: {'Omon': 14}\n",
      "variables: {'tos': 14}\n",
      "Realms: {'ocean': 14}\n",
      "Ensembles: {'r3i1p1f1': 4, 'r2i1p1f1': 5, 'r1i1p1f1': 5}\n",
      "Models: {'ACCESS-ESM1-5': 14}\n",
      "grid_label: {'gn': 14}\n",
      "experiment_id: {'historical': 14}\n"
     ]
    }
   ],
   "source": [
    "ctx = conn.new_context(project='CMIP6', variable=(',').join(variables),# for multiple variables use like this- 'tas,pr'\n",
    "                       experiment_id='historical',\n",
    "                       product='model-output',\n",
    "                       frequency='mon',\n",
    "                       table_id='Omon',\n",
    "                       grid_label='gn,gr',\n",
    "                       source_id='ACCESS-ESM1-5',# for multiple models-> 'BCC-CSM2-MR,CESM2,FGOALS-g3,GFDL-CM4,GFDL-ESM4,GISS-E2-1-G',\n",
    "                       #from_timestamp=\"1950-01-01T00:00:01Z\", to_timestamp=\"2020-01-01T00:00:00Z\",\n",
    "                       #nominal_resolution='50 km,250 km,100 km',\n",
    "                       variant_label='r1i1p1f1,r2i1p1f1,r3i1p1f1',\n",
    "#                        data_node='esgf3.dkrz.de',\n",
    "#                        data_node='esgf-index1.ceda.ac.uk',#['esgf-data1.llnl.gov', 'aims3.llnl.gov', 'cmip.bcc.cma.cn', 'esgf-data.ucar.edu', 'dpesgf03.nccs.nasa.gov', 'esg.lasg.ac.cn', 'esgf-data04.diasjp.net', 'esgf3.dkrz.de', 'esgf.ceda.ac.uk', 'esgf.nci.org.au']\n",
    "                       \n",
    "                       #replica=False,\n",
    "#                        facets='project,experiment_id',\n",
    "                       latest=True\n",
    "                      )\n",
    "print('Hits:', ctx.hit_count)\n",
    "print('table_id:', ctx.facet_counts['table_id'])\n",
    "\n",
    "print('variables:', ctx.facet_counts['variable'])\n",
    "print('Realms:', ctx.facet_counts['realm'])\n",
    "print('Ensembles:', ctx.facet_counts['variant_label'])\n",
    "print('Models:', ctx.facet_counts['source_id'])\n",
    "print('grid_label:', ctx.facet_counts['grid_label'])\n",
    "print('experiment_id:', ctx.facet_counts['experiment_id'])\n",
    "\n",
    "# print('nominal resolution:', ctx.facet_counts['nominal_resolution'])\n",
    "# hits means number of models or results\n",
    "# each hits contains lot of files"
   ]
  },
  {
   "cell_type": "markdown",
   "metadata": {},
   "source": [
    "<h1 style='font-size:3rem;color:red;'> Extracting download URL from search result and appending to a list </h1>\n"
   ]
  },
  {
   "cell_type": "markdown",
   "metadata": {},
   "source": [
    "## Each hit contains lot of files and each of them having a URL"
   ]
  },
  {
   "cell_type": "code",
   "execution_count": null,
   "metadata": {},
   "outputs": [],
   "source": []
  },
  {
   "cell_type": "code",
   "execution_count": 91,
   "metadata": {
    "ExecuteTime": {
     "end_time": "2023-07-29T05:42:55.090060Z",
     "start_time": "2023-07-29T05:41:44.408820Z"
    },
    "scrolled": true
   },
   "outputs": [
    {
     "name": "stdout",
     "output_type": "stream",
     "text": [
      "14\n"
     ]
    },
    {
     "data": {
      "application/vnd.jupyter.widget-view+json": {
       "model_id": "d3dc51da74dc4484abbbfcf985c74f83",
       "version_major": 2,
       "version_minor": 0
      },
      "text/plain": [
       "  0%|          | 0/14 [00:00<?, ?it/s]"
      ]
     },
     "metadata": {},
     "output_type": "display_data"
    },
    {
     "name": "stderr",
     "output_type": "stream",
     "text": [
      "\n",
      "-------------------------------------------------------------------------------\n",
      "Warning - defaulting to search with facets=*\n",
      "\n",
      "This behavior is kept for backward-compatibility, but ESGF indexes might not\n",
      "successfully perform a distributed search when this option is used, so some\n",
      "results may be missing.  For full results, it is recommended to pass a list of\n",
      "facets of interest when instantiating a context object.  For example,\n",
      "\n",
      "      ctx = conn.new_context(facets='project,experiment_id')\n",
      "\n",
      "Only the facets that you specify will be present in the facets_counts dictionary.\n",
      "\n",
      "This warning is displayed when a distributed search is performed while using the\n",
      "facets=* default, a maximum of once per context object.  To suppress this warning,\n",
      "set the environment variable ESGF_PYCLIENT_NO_FACETS_STAR_WARNING to any value\n",
      "or explicitly use  conn.new_context(facets='*')\n",
      "\n",
      "-------------------------------------------------------------------------------\n"
     ]
    },
    {
     "name": "stdout",
     "output_type": "stream",
     "text": [
      "0\n",
      "7.142857142857142 % of links appended to the list\n"
     ]
    },
    {
     "name": "stderr",
     "output_type": "stream",
     "text": [
      "\n",
      "-------------------------------------------------------------------------------\n",
      "Warning - defaulting to search with facets=*\n",
      "\n",
      "This behavior is kept for backward-compatibility, but ESGF indexes might not\n",
      "successfully perform a distributed search when this option is used, so some\n",
      "results may be missing.  For full results, it is recommended to pass a list of\n",
      "facets of interest when instantiating a context object.  For example,\n",
      "\n",
      "      ctx = conn.new_context(facets='project,experiment_id')\n",
      "\n",
      "Only the facets that you specify will be present in the facets_counts dictionary.\n",
      "\n",
      "This warning is displayed when a distributed search is performed while using the\n",
      "facets=* default, a maximum of once per context object.  To suppress this warning,\n",
      "set the environment variable ESGF_PYCLIENT_NO_FACETS_STAR_WARNING to any value\n",
      "or explicitly use  conn.new_context(facets='*')\n",
      "\n",
      "-------------------------------------------------------------------------------\n"
     ]
    },
    {
     "name": "stdout",
     "output_type": "stream",
     "text": [
      "1\n",
      "14.285714285714285 % of links appended to the list\n"
     ]
    },
    {
     "name": "stderr",
     "output_type": "stream",
     "text": [
      "\n",
      "-------------------------------------------------------------------------------\n",
      "Warning - defaulting to search with facets=*\n",
      "\n",
      "This behavior is kept for backward-compatibility, but ESGF indexes might not\n",
      "successfully perform a distributed search when this option is used, so some\n",
      "results may be missing.  For full results, it is recommended to pass a list of\n",
      "facets of interest when instantiating a context object.  For example,\n",
      "\n",
      "      ctx = conn.new_context(facets='project,experiment_id')\n",
      "\n",
      "Only the facets that you specify will be present in the facets_counts dictionary.\n",
      "\n",
      "This warning is displayed when a distributed search is performed while using the\n",
      "facets=* default, a maximum of once per context object.  To suppress this warning,\n",
      "set the environment variable ESGF_PYCLIENT_NO_FACETS_STAR_WARNING to any value\n",
      "or explicitly use  conn.new_context(facets='*')\n",
      "\n",
      "-------------------------------------------------------------------------------\n"
     ]
    },
    {
     "name": "stdout",
     "output_type": "stream",
     "text": [
      "2\n",
      "21.428571428571427 % of links appended to the list\n"
     ]
    },
    {
     "name": "stderr",
     "output_type": "stream",
     "text": [
      "\n",
      "-------------------------------------------------------------------------------\n",
      "Warning - defaulting to search with facets=*\n",
      "\n",
      "This behavior is kept for backward-compatibility, but ESGF indexes might not\n",
      "successfully perform a distributed search when this option is used, so some\n",
      "results may be missing.  For full results, it is recommended to pass a list of\n",
      "facets of interest when instantiating a context object.  For example,\n",
      "\n",
      "      ctx = conn.new_context(facets='project,experiment_id')\n",
      "\n",
      "Only the facets that you specify will be present in the facets_counts dictionary.\n",
      "\n",
      "This warning is displayed when a distributed search is performed while using the\n",
      "facets=* default, a maximum of once per context object.  To suppress this warning,\n",
      "set the environment variable ESGF_PYCLIENT_NO_FACETS_STAR_WARNING to any value\n",
      "or explicitly use  conn.new_context(facets='*')\n",
      "\n",
      "-------------------------------------------------------------------------------\n"
     ]
    },
    {
     "name": "stdout",
     "output_type": "stream",
     "text": [
      "3\n",
      "28.57142857142857 % of links appended to the list\n"
     ]
    },
    {
     "name": "stderr",
     "output_type": "stream",
     "text": [
      "\n",
      "-------------------------------------------------------------------------------\n",
      "Warning - defaulting to search with facets=*\n",
      "\n",
      "This behavior is kept for backward-compatibility, but ESGF indexes might not\n",
      "successfully perform a distributed search when this option is used, so some\n",
      "results may be missing.  For full results, it is recommended to pass a list of\n",
      "facets of interest when instantiating a context object.  For example,\n",
      "\n",
      "      ctx = conn.new_context(facets='project,experiment_id')\n",
      "\n",
      "Only the facets that you specify will be present in the facets_counts dictionary.\n",
      "\n",
      "This warning is displayed when a distributed search is performed while using the\n",
      "facets=* default, a maximum of once per context object.  To suppress this warning,\n",
      "set the environment variable ESGF_PYCLIENT_NO_FACETS_STAR_WARNING to any value\n",
      "or explicitly use  conn.new_context(facets='*')\n",
      "\n",
      "-------------------------------------------------------------------------------\n"
     ]
    },
    {
     "name": "stdout",
     "output_type": "stream",
     "text": [
      "4\n",
      "35.714285714285715 % of links appended to the list\n"
     ]
    },
    {
     "name": "stderr",
     "output_type": "stream",
     "text": [
      "\n",
      "-------------------------------------------------------------------------------\n",
      "Warning - defaulting to search with facets=*\n",
      "\n",
      "This behavior is kept for backward-compatibility, but ESGF indexes might not\n",
      "successfully perform a distributed search when this option is used, so some\n",
      "results may be missing.  For full results, it is recommended to pass a list of\n",
      "facets of interest when instantiating a context object.  For example,\n",
      "\n",
      "      ctx = conn.new_context(facets='project,experiment_id')\n",
      "\n",
      "Only the facets that you specify will be present in the facets_counts dictionary.\n",
      "\n",
      "This warning is displayed when a distributed search is performed while using the\n",
      "facets=* default, a maximum of once per context object.  To suppress this warning,\n",
      "set the environment variable ESGF_PYCLIENT_NO_FACETS_STAR_WARNING to any value\n",
      "or explicitly use  conn.new_context(facets='*')\n",
      "\n",
      "-------------------------------------------------------------------------------\n"
     ]
    },
    {
     "name": "stdout",
     "output_type": "stream",
     "text": [
      "5\n",
      "42.857142857142854 % of links appended to the list\n"
     ]
    },
    {
     "name": "stderr",
     "output_type": "stream",
     "text": [
      "\n",
      "-------------------------------------------------------------------------------\n",
      "Warning - defaulting to search with facets=*\n",
      "\n",
      "This behavior is kept for backward-compatibility, but ESGF indexes might not\n",
      "successfully perform a distributed search when this option is used, so some\n",
      "results may be missing.  For full results, it is recommended to pass a list of\n",
      "facets of interest when instantiating a context object.  For example,\n",
      "\n",
      "      ctx = conn.new_context(facets='project,experiment_id')\n",
      "\n",
      "Only the facets that you specify will be present in the facets_counts dictionary.\n",
      "\n",
      "This warning is displayed when a distributed search is performed while using the\n",
      "facets=* default, a maximum of once per context object.  To suppress this warning,\n",
      "set the environment variable ESGF_PYCLIENT_NO_FACETS_STAR_WARNING to any value\n",
      "or explicitly use  conn.new_context(facets='*')\n",
      "\n",
      "-------------------------------------------------------------------------------\n"
     ]
    },
    {
     "name": "stdout",
     "output_type": "stream",
     "text": [
      "6\n",
      "50.0 % of links appended to the list\n"
     ]
    },
    {
     "name": "stderr",
     "output_type": "stream",
     "text": [
      "\n",
      "-------------------------------------------------------------------------------\n",
      "Warning - defaulting to search with facets=*\n",
      "\n",
      "This behavior is kept for backward-compatibility, but ESGF indexes might not\n",
      "successfully perform a distributed search when this option is used, so some\n",
      "results may be missing.  For full results, it is recommended to pass a list of\n",
      "facets of interest when instantiating a context object.  For example,\n",
      "\n",
      "      ctx = conn.new_context(facets='project,experiment_id')\n",
      "\n",
      "Only the facets that you specify will be present in the facets_counts dictionary.\n",
      "\n",
      "This warning is displayed when a distributed search is performed while using the\n",
      "facets=* default, a maximum of once per context object.  To suppress this warning,\n",
      "set the environment variable ESGF_PYCLIENT_NO_FACETS_STAR_WARNING to any value\n",
      "or explicitly use  conn.new_context(facets='*')\n",
      "\n",
      "-------------------------------------------------------------------------------\n"
     ]
    },
    {
     "name": "stdout",
     "output_type": "stream",
     "text": [
      "7\n",
      "57.14285714285714 % of links appended to the list\n"
     ]
    },
    {
     "name": "stderr",
     "output_type": "stream",
     "text": [
      "\n",
      "-------------------------------------------------------------------------------\n",
      "Warning - defaulting to search with facets=*\n",
      "\n",
      "This behavior is kept for backward-compatibility, but ESGF indexes might not\n",
      "successfully perform a distributed search when this option is used, so some\n",
      "results may be missing.  For full results, it is recommended to pass a list of\n",
      "facets of interest when instantiating a context object.  For example,\n",
      "\n",
      "      ctx = conn.new_context(facets='project,experiment_id')\n",
      "\n",
      "Only the facets that you specify will be present in the facets_counts dictionary.\n",
      "\n",
      "This warning is displayed when a distributed search is performed while using the\n",
      "facets=* default, a maximum of once per context object.  To suppress this warning,\n",
      "set the environment variable ESGF_PYCLIENT_NO_FACETS_STAR_WARNING to any value\n",
      "or explicitly use  conn.new_context(facets='*')\n",
      "\n",
      "-------------------------------------------------------------------------------\n"
     ]
    },
    {
     "name": "stdout",
     "output_type": "stream",
     "text": [
      "8\n",
      "64.28571428571429 % of links appended to the list\n"
     ]
    },
    {
     "name": "stderr",
     "output_type": "stream",
     "text": [
      "\n",
      "-------------------------------------------------------------------------------\n",
      "Warning - defaulting to search with facets=*\n",
      "\n",
      "This behavior is kept for backward-compatibility, but ESGF indexes might not\n",
      "successfully perform a distributed search when this option is used, so some\n",
      "results may be missing.  For full results, it is recommended to pass a list of\n",
      "facets of interest when instantiating a context object.  For example,\n",
      "\n",
      "      ctx = conn.new_context(facets='project,experiment_id')\n",
      "\n",
      "Only the facets that you specify will be present in the facets_counts dictionary.\n",
      "\n",
      "This warning is displayed when a distributed search is performed while using the\n",
      "facets=* default, a maximum of once per context object.  To suppress this warning,\n",
      "set the environment variable ESGF_PYCLIENT_NO_FACETS_STAR_WARNING to any value\n",
      "or explicitly use  conn.new_context(facets='*')\n",
      "\n",
      "-------------------------------------------------------------------------------\n"
     ]
    },
    {
     "name": "stdout",
     "output_type": "stream",
     "text": [
      "9\n",
      "71.42857142857143 % of links appended to the list\n"
     ]
    },
    {
     "name": "stderr",
     "output_type": "stream",
     "text": [
      "\n",
      "-------------------------------------------------------------------------------\n",
      "Warning - defaulting to search with facets=*\n",
      "\n",
      "This behavior is kept for backward-compatibility, but ESGF indexes might not\n",
      "successfully perform a distributed search when this option is used, so some\n",
      "results may be missing.  For full results, it is recommended to pass a list of\n",
      "facets of interest when instantiating a context object.  For example,\n",
      "\n",
      "      ctx = conn.new_context(facets='project,experiment_id')\n",
      "\n",
      "Only the facets that you specify will be present in the facets_counts dictionary.\n",
      "\n",
      "This warning is displayed when a distributed search is performed while using the\n",
      "facets=* default, a maximum of once per context object.  To suppress this warning,\n",
      "set the environment variable ESGF_PYCLIENT_NO_FACETS_STAR_WARNING to any value\n",
      "or explicitly use  conn.new_context(facets='*')\n",
      "\n",
      "-------------------------------------------------------------------------------\n"
     ]
    },
    {
     "name": "stdout",
     "output_type": "stream",
     "text": [
      "10\n",
      "78.57142857142857 % of links appended to the list\n"
     ]
    },
    {
     "name": "stderr",
     "output_type": "stream",
     "text": [
      "\n",
      "-------------------------------------------------------------------------------\n",
      "Warning - defaulting to search with facets=*\n",
      "\n",
      "This behavior is kept for backward-compatibility, but ESGF indexes might not\n",
      "successfully perform a distributed search when this option is used, so some\n",
      "results may be missing.  For full results, it is recommended to pass a list of\n",
      "facets of interest when instantiating a context object.  For example,\n",
      "\n",
      "      ctx = conn.new_context(facets='project,experiment_id')\n",
      "\n",
      "Only the facets that you specify will be present in the facets_counts dictionary.\n",
      "\n",
      "This warning is displayed when a distributed search is performed while using the\n",
      "facets=* default, a maximum of once per context object.  To suppress this warning,\n",
      "set the environment variable ESGF_PYCLIENT_NO_FACETS_STAR_WARNING to any value\n",
      "or explicitly use  conn.new_context(facets='*')\n",
      "\n",
      "-------------------------------------------------------------------------------\n"
     ]
    },
    {
     "name": "stdout",
     "output_type": "stream",
     "text": [
      "11\n",
      "85.71428571428571 % of links appended to the list\n"
     ]
    },
    {
     "name": "stderr",
     "output_type": "stream",
     "text": [
      "\n",
      "-------------------------------------------------------------------------------\n",
      "Warning - defaulting to search with facets=*\n",
      "\n",
      "This behavior is kept for backward-compatibility, but ESGF indexes might not\n",
      "successfully perform a distributed search when this option is used, so some\n",
      "results may be missing.  For full results, it is recommended to pass a list of\n",
      "facets of interest when instantiating a context object.  For example,\n",
      "\n",
      "      ctx = conn.new_context(facets='project,experiment_id')\n",
      "\n",
      "Only the facets that you specify will be present in the facets_counts dictionary.\n",
      "\n",
      "This warning is displayed when a distributed search is performed while using the\n",
      "facets=* default, a maximum of once per context object.  To suppress this warning,\n",
      "set the environment variable ESGF_PYCLIENT_NO_FACETS_STAR_WARNING to any value\n",
      "or explicitly use  conn.new_context(facets='*')\n",
      "\n",
      "-------------------------------------------------------------------------------\n"
     ]
    },
    {
     "name": "stdout",
     "output_type": "stream",
     "text": [
      "12\n",
      "92.85714285714286 % of links appended to the list\n"
     ]
    },
    {
     "name": "stderr",
     "output_type": "stream",
     "text": [
      "\n",
      "-------------------------------------------------------------------------------\n",
      "Warning - defaulting to search with facets=*\n",
      "\n",
      "This behavior is kept for backward-compatibility, but ESGF indexes might not\n",
      "successfully perform a distributed search when this option is used, so some\n",
      "results may be missing.  For full results, it is recommended to pass a list of\n",
      "facets of interest when instantiating a context object.  For example,\n",
      "\n",
      "      ctx = conn.new_context(facets='project,experiment_id')\n",
      "\n",
      "Only the facets that you specify will be present in the facets_counts dictionary.\n",
      "\n",
      "This warning is displayed when a distributed search is performed while using the\n",
      "facets=* default, a maximum of once per context object.  To suppress this warning,\n",
      "set the environment variable ESGF_PYCLIENT_NO_FACETS_STAR_WARNING to any value\n",
      "or explicitly use  conn.new_context(facets='*')\n",
      "\n",
      "-------------------------------------------------------------------------------\n"
     ]
    },
    {
     "name": "stdout",
     "output_type": "stream",
     "text": [
      "13\n",
      "100.0 % of links appended to the list\n",
      "#############################################\n",
      "#                                           #\n",
      "#       Completed appending links 100%      #\n",
      "#                                           #\n",
      "#############################################\n",
      "\n"
     ]
    }
   ],
   "source": [
    "df =[]\n",
    "total_links = []\n",
    "hit = int(ctx.hit_count)\n",
    "\n",
    "\n",
    "print(len(ctx.search()))\n",
    "## if crashed the appending in between, can continue from hereby changing the '0' \n",
    "# for i in range(0, 10, 1): # Just for checking \n",
    "for i in tqdm(range(0, hit, 1)):\n",
    "    ds = ctx.search()[i] # i th hit or i th result\n",
    "    files = ds.file_context().search() # finding files from hit\n",
    "    len(files)\n",
    "    print(i)\n",
    "    for f in files:\n",
    "        kk = str(f.download_url) # extracting URL's of all files\n",
    "        #print(kk)\n",
    "        df += [kk] #appending to list df\n",
    "    \n",
    "    print(float(((i+1)/hit)*100), '% of links appended to the list')\n",
    "print('#############################################')\n",
    "print('#                                           #')\n",
    "print('#       Completed appending links 100%      #')\n",
    "print('#                                           #')\n",
    "print('#############################################')\n",
    "print('')\n"
   ]
  },
  {
   "cell_type": "code",
   "execution_count": 96,
   "metadata": {
    "ExecuteTime": {
     "end_time": "2023-07-29T05:55:43.835980Z",
     "start_time": "2023-07-29T05:55:43.833339Z"
    }
   },
   "outputs": [
    {
     "data": {
      "text/plain": [
       "['http://esgf-data1.llnl.gov/thredds/fileServer/css03_data/CMIP6/CMIP/CSIRO/ACCESS-ESM1-5/historical/r1i1p1f1/Omon/tos/gn/v20191115/tos_Omon_ACCESS-ESM1-5_historical_r1i1p1f1_gn_185001-201412.nc',\n",
       " 'http://esgf-data1.llnl.gov/thredds/fileServer/css03_data/CMIP6/CMIP/CSIRO/ACCESS-ESM1-5/historical/r2i1p1f1/Omon/tos/gn/v20191128/tos_Omon_ACCESS-ESM1-5_historical_r2i1p1f1_gn_185001-201412.nc',\n",
       " 'http://esgf-data1.llnl.gov/thredds/fileServer/css03_data/CMIP6/CMIP/CSIRO/ACCESS-ESM1-5/historical/r3i1p1f1/Omon/tos/gn/v20191203/tos_Omon_ACCESS-ESM1-5_historical_r3i1p1f1_gn_185001-201412.nc',\n",
       " 'http://esgf-data04.diasjp.net/thredds/fileServer/esg_dataroot/CMIP6/CMIP/CSIRO/ACCESS-ESM1-5/historical/r1i1p1f1/Omon/tos/gn/v20191115/tos_Omon_ACCESS-ESM1-5_historical_r1i1p1f1_gn_185001-201412.nc',\n",
       " 'http://esgf-data04.diasjp.net/thredds/fileServer/esg_dataroot/CMIP6/CMIP/CSIRO/ACCESS-ESM1-5/historical/r2i1p1f1/Omon/tos/gn/v20191128/tos_Omon_ACCESS-ESM1-5_historical_r2i1p1f1_gn_185001-201412.nc',\n",
       " 'http://esgf-data04.diasjp.net/thredds/fileServer/esg_dataroot/CMIP6/CMIP/CSIRO/ACCESS-ESM1-5/historical/r3i1p1f1/Omon/tos/gn/v20191203/tos_Omon_ACCESS-ESM1-5_historical_r3i1p1f1_gn_185001-201412.nc',\n",
       " 'http://esgf3.dkrz.de/thredds/fileServer/cmip6/CMIP/CSIRO/ACCESS-ESM1-5/historical/r1i1p1f1/Omon/tos/gn/v20191115/tos_Omon_ACCESS-ESM1-5_historical_r1i1p1f1_gn_185001-201412.nc',\n",
       " 'http://esgf3.dkrz.de/thredds/fileServer/cmip6/CMIP/CSIRO/ACCESS-ESM1-5/historical/r2i1p1f1/Omon/tos/gn/v20191128/tos_Omon_ACCESS-ESM1-5_historical_r2i1p1f1_gn_185001-201412.nc',\n",
       " 'http://esgf3.dkrz.de/thredds/fileServer/cmip6/CMIP/CSIRO/ACCESS-ESM1-5/historical/r3i1p1f1/Omon/tos/gn/v20191203/tos_Omon_ACCESS-ESM1-5_historical_r3i1p1f1_gn_185001-201412.nc',\n",
       " 'https://esgf.ceda.ac.uk/thredds/fileServer/esg_cmip6/CMIP6/CMIP/CSIRO/ACCESS-ESM1-5/historical/r1i1p1f1/Omon/tos/gn/v20191115/tos_Omon_ACCESS-ESM1-5_historical_r1i1p1f1_gn_185001-201412.nc',\n",
       " 'https://esgf.ceda.ac.uk/thredds/fileServer/esg_cmip6/CMIP6/CMIP/CSIRO/ACCESS-ESM1-5/historical/r2i1p1f1/Omon/tos/gn/v20191128/tos_Omon_ACCESS-ESM1-5_historical_r2i1p1f1_gn_185001-201412.nc',\n",
       " 'http://esgf.nci.org.au/thredds/fileServer/master/CMIP6/CMIP/CSIRO/ACCESS-ESM1-5/historical/r1i1p1f1/Omon/tos/gn/v20191115/tos_Omon_ACCESS-ESM1-5_historical_r1i1p1f1_gn_185001-201412.nc',\n",
       " 'http://esgf.nci.org.au/thredds/fileServer/master/CMIP6/CMIP/CSIRO/ACCESS-ESM1-5/historical/r2i1p1f1/Omon/tos/gn/v20191128/tos_Omon_ACCESS-ESM1-5_historical_r2i1p1f1_gn_185001-201412.nc',\n",
       " 'http://esgf.nci.org.au/thredds/fileServer/master/CMIP6/CMIP/CSIRO/ACCESS-ESM1-5/historical/r3i1p1f1/Omon/tos/gn/v20191203/tos_Omon_ACCESS-ESM1-5_historical_r3i1p1f1_gn_185001-201412.nc']"
      ]
     },
     "execution_count": 96,
     "metadata": {},
     "output_type": "execute_result"
    }
   ],
   "source": [
    "df"
   ]
  },
  {
   "cell_type": "markdown",
   "metadata": {},
   "source": [
    "## links saving to a txt file"
   ]
  },
  {
   "cell_type": "code",
   "execution_count": 97,
   "metadata": {
    "ExecuteTime": {
     "end_time": "2023-07-29T05:55:44.969688Z",
     "start_time": "2023-07-29T05:55:44.965691Z"
    }
   },
   "outputs": [
    {
     "name": "stdout",
     "output_type": "stream",
     "text": [
      "14\n",
      "<class 'str'>\n",
      "http://esgf-data1.llnl.gov/thredds/fileServer/css03_data/CMIP6/CMIP/CSIRO/ACCESS-ESM1-5/historical/r1i1p1f1/Omon/tos/gn/v20191115/tos_Omon_ACCESS-ESM1-5_historical_r1i1p1f1_gn_185001-201412.nc\n"
     ]
    }
   ],
   "source": [
    "#print(len(total_links))\n",
    "print(len(df))\n",
    "print(type(df[0]))\n",
    "print(df[0])"
   ]
  },
  {
   "cell_type": "code",
   "execution_count": 98,
   "metadata": {
    "ExecuteTime": {
     "end_time": "2023-07-29T05:55:46.425288Z",
     "start_time": "2023-07-29T05:55:46.402757Z"
    }
   },
   "outputs": [],
   "source": [
    "ff=open(backup_file_name,'w')\n",
    "for i in df:\n",
    "    ff.write(i+'\\n')# opening a txt file and saving into it.\n",
    "ff.close()"
   ]
  },
  {
   "cell_type": "code",
   "execution_count": 100,
   "metadata": {
    "ExecuteTime": {
     "end_time": "2023-07-29T05:57:25.462508Z",
     "start_time": "2023-07-29T05:57:25.459687Z"
    }
   },
   "outputs": [
    {
     "name": "stdout",
     "output_type": "stream",
     "text": [
      "\u001b[31m'these are the nodes you are going to download'\u001b[0m ['esgf-data1.llnl.gov', 'esgf-data04.diasjp.net', 'esgf3.dkrz.de', 'esgf.ceda.ac.uk', 'esgf.nci.org.au']\n"
     ]
    }
   ],
   "source": [
    "temp=[]\n",
    "for kk in df:\n",
    "    temp.append(kk.split('/')[2])\n",
    "temp\n",
    "temp = list(dict.fromkeys(temp))\n",
    "print(\"\\x1b[31m\\'these are the nodes you are going to download'\\x1b[0m\",temp)"
   ]
  },
  {
   "cell_type": "markdown",
   "metadata": {},
   "source": [
    "<h1 style='font-size:3rem;color:red;'> Continue From Here Onwards</h1>\n",
    "\n",
    "\n",
    "All the above shells you need to do only once"
   ]
  },
  {
   "cell_type": "code",
   "execution_count": 107,
   "metadata": {
    "ExecuteTime": {
     "end_time": "2023-07-29T06:04:17.668599Z",
     "start_time": "2023-07-29T06:04:17.665951Z"
    }
   },
   "outputs": [],
   "source": [
    "df_backup=[]\n",
    "f = open(backup_file_name, \"r\")\n",
    "for line in f:\n",
    "    stripped_line = line.strip()\n",
    "    line_list = stripped_line.split()\n",
    "    df_backup.append(stripped_line) # opening that txt file and appending to df_backup\n",
    "f.close()"
   ]
  },
  {
   "cell_type": "code",
   "execution_count": 108,
   "metadata": {
    "ExecuteTime": {
     "end_time": "2023-07-29T06:04:17.910938Z",
     "start_time": "2023-07-29T06:04:17.908359Z"
    },
    "scrolled": true
   },
   "outputs": [
    {
     "data": {
      "text/plain": [
       "['http://esgf-data1.llnl.gov/thredds/fileServer/css03_data/CMIP6/CMIP/CSIRO/ACCESS-ESM1-5/historical/r1i1p1f1/Omon/tos/gn/v20191115/tos_Omon_ACCESS-ESM1-5_historical_r1i1p1f1_gn_185001-201412.nc',\n",
       " 'http://esgf-data1.llnl.gov/thredds/fileServer/css03_data/CMIP6/CMIP/CSIRO/ACCESS-ESM1-5/historical/r2i1p1f1/Omon/tos/gn/v20191128/tos_Omon_ACCESS-ESM1-5_historical_r2i1p1f1_gn_185001-201412.nc',\n",
       " 'http://esgf-data1.llnl.gov/thredds/fileServer/css03_data/CMIP6/CMIP/CSIRO/ACCESS-ESM1-5/historical/r3i1p1f1/Omon/tos/gn/v20191203/tos_Omon_ACCESS-ESM1-5_historical_r3i1p1f1_gn_185001-201412.nc',\n",
       " 'http://esgf-data04.diasjp.net/thredds/fileServer/esg_dataroot/CMIP6/CMIP/CSIRO/ACCESS-ESM1-5/historical/r1i1p1f1/Omon/tos/gn/v20191115/tos_Omon_ACCESS-ESM1-5_historical_r1i1p1f1_gn_185001-201412.nc',\n",
       " 'http://esgf-data04.diasjp.net/thredds/fileServer/esg_dataroot/CMIP6/CMIP/CSIRO/ACCESS-ESM1-5/historical/r2i1p1f1/Omon/tos/gn/v20191128/tos_Omon_ACCESS-ESM1-5_historical_r2i1p1f1_gn_185001-201412.nc',\n",
       " 'http://esgf-data04.diasjp.net/thredds/fileServer/esg_dataroot/CMIP6/CMIP/CSIRO/ACCESS-ESM1-5/historical/r3i1p1f1/Omon/tos/gn/v20191203/tos_Omon_ACCESS-ESM1-5_historical_r3i1p1f1_gn_185001-201412.nc',\n",
       " 'http://esgf3.dkrz.de/thredds/fileServer/cmip6/CMIP/CSIRO/ACCESS-ESM1-5/historical/r1i1p1f1/Omon/tos/gn/v20191115/tos_Omon_ACCESS-ESM1-5_historical_r1i1p1f1_gn_185001-201412.nc',\n",
       " 'http://esgf3.dkrz.de/thredds/fileServer/cmip6/CMIP/CSIRO/ACCESS-ESM1-5/historical/r2i1p1f1/Omon/tos/gn/v20191128/tos_Omon_ACCESS-ESM1-5_historical_r2i1p1f1_gn_185001-201412.nc',\n",
       " 'http://esgf3.dkrz.de/thredds/fileServer/cmip6/CMIP/CSIRO/ACCESS-ESM1-5/historical/r3i1p1f1/Omon/tos/gn/v20191203/tos_Omon_ACCESS-ESM1-5_historical_r3i1p1f1_gn_185001-201412.nc',\n",
       " 'https://esgf.ceda.ac.uk/thredds/fileServer/esg_cmip6/CMIP6/CMIP/CSIRO/ACCESS-ESM1-5/historical/r1i1p1f1/Omon/tos/gn/v20191115/tos_Omon_ACCESS-ESM1-5_historical_r1i1p1f1_gn_185001-201412.nc',\n",
       " 'https://esgf.ceda.ac.uk/thredds/fileServer/esg_cmip6/CMIP6/CMIP/CSIRO/ACCESS-ESM1-5/historical/r2i1p1f1/Omon/tos/gn/v20191128/tos_Omon_ACCESS-ESM1-5_historical_r2i1p1f1_gn_185001-201412.nc',\n",
       " 'http://esgf.nci.org.au/thredds/fileServer/master/CMIP6/CMIP/CSIRO/ACCESS-ESM1-5/historical/r1i1p1f1/Omon/tos/gn/v20191115/tos_Omon_ACCESS-ESM1-5_historical_r1i1p1f1_gn_185001-201412.nc',\n",
       " 'http://esgf.nci.org.au/thredds/fileServer/master/CMIP6/CMIP/CSIRO/ACCESS-ESM1-5/historical/r2i1p1f1/Omon/tos/gn/v20191128/tos_Omon_ACCESS-ESM1-5_historical_r2i1p1f1_gn_185001-201412.nc',\n",
       " 'http://esgf.nci.org.au/thredds/fileServer/master/CMIP6/CMIP/CSIRO/ACCESS-ESM1-5/historical/r3i1p1f1/Omon/tos/gn/v20191203/tos_Omon_ACCESS-ESM1-5_historical_r3i1p1f1_gn_185001-201412.nc']"
      ]
     },
     "execution_count": 108,
     "metadata": {},
     "output_type": "execute_result"
    }
   ],
   "source": [
    "df_backup"
   ]
  },
  {
   "cell_type": "raw",
   "metadata": {},
   "source": [
    "If you comment the below cell it will download all the time period files available in ESGF website"
   ]
  },
  {
   "cell_type": "code",
   "execution_count": 109,
   "metadata": {
    "ExecuteTime": {
     "end_time": "2023-07-29T06:04:19.225386Z",
     "start_time": "2023-07-29T06:04:19.218200Z"
    },
    "scrolled": true
   },
   "outputs": [
    {
     "name": "stdout",
     "output_type": "stream",
     "text": [
      "185001  to  201412\n",
      "185001  to  201412\n",
      "185001  to  201412\n",
      "185001  to  201412\n",
      "185001  to  201412\n",
      "185001  to  201412\n",
      "185001  to  201412\n",
      "185001  to  201412\n",
      "185001  to  201412\n",
      "185001  to  201412\n",
      "185001  to  201412\n",
      "185001  to  201412\n",
      "185001  to  201412\n",
      "185001  to  201412\n",
      "Now we have 14 number of files out of 14 in between 197001 and 202012\n"
     ]
    }
   ],
   "source": [
    "# completely optional- if you need to avoide downloading some years or time period(1970-2005)\n",
    "\n",
    "\n",
    "min_period=197001 # give minimum and maximum period (time-period) we need to download\n",
    "max_period=202012 # give minimum and maximum period (time-period) we need to download\n",
    "\n",
    "new_list=[]\n",
    "kk= len(df_backup)\n",
    "for url in df_backup:\n",
    "    fname=url.split('/')[-1] # splitting file name from url\n",
    "    yr_min=int(fname.split('_')[-1].split('-')[0])                 #;print(yr_min) # split timeperiod of nc file\n",
    "    yr_max=int(fname.split('_')[-1].split('-')[-1].split('.')[0])  #;print(yr_max)\n",
    "    \n",
    "    \n",
    "    if (yr_min>max_period) or (yr_max<min_period): # if file is not inside our time period\n",
    "        new_list.append(url) #appending to another list\n",
    "\n",
    "        \n",
    "    else:\n",
    "        print(yr_min,' to ',yr_max)\n",
    "# print(new_list)\n",
    "\n",
    "\n",
    "\n",
    "def Diff(li1, li2): # function to subtract one list from another\n",
    "    return list(set(li1) - set(li2)) + list(set(li2) - set(li1))\n",
    "df_backup= Diff(df_backup,new_list) #modifying the list of links\n",
    "print(f'Now we have {len(df_backup)} number of files out of {kk} in between {min_period} and {max_period}')"
   ]
  },
  {
   "cell_type": "code",
   "execution_count": 110,
   "metadata": {
    "ExecuteTime": {
     "end_time": "2023-07-29T06:04:28.905152Z",
     "start_time": "2023-07-29T06:04:28.900111Z"
    },
    "scrolled": true
   },
   "outputs": [
    {
     "name": "stdout",
     "output_type": "stream",
     "text": [
      "Now we have 14 number of files out of 14 in between 197001 and 202012\n"
     ]
    }
   ],
   "source": [
    "print(f'Now we have {len(df_backup)} number of files out of {kk} in between {min_period} and {max_period}')"
   ]
  },
  {
   "cell_type": "markdown",
   "metadata": {},
   "source": [
    "  \n",
    "  \n",
    "  \n",
    "  \n",
    "  \n",
    "  \n",
    "  \n"
   ]
  },
  {
   "cell_type": "markdown",
   "metadata": {},
   "source": [
    " "
   ]
  },
  {
   "cell_type": "markdown",
   "metadata": {},
   "source": [
    " "
   ]
  },
  {
   "cell_type": "markdown",
   "metadata": {},
   "source": [
    " "
   ]
  },
  {
   "cell_type": "markdown",
   "metadata": {},
   "source": [
    " "
   ]
  },
  {
   "cell_type": "markdown",
   "metadata": {},
   "source": [
    "<h1 style='font-size:3rem;color:red;'>Data Downloading shell ## Engine of Script</h1>"
   ]
  },
  {
   "cell_type": "markdown",
   "metadata": {},
   "source": [
    "# Data Downloading shell ## Engine of Script"
   ]
  },
  {
   "cell_type": "code",
   "execution_count": 112,
   "metadata": {
    "ExecuteTime": {
     "end_time": "2023-07-29T06:11:18.685516Z",
     "start_time": "2023-07-29T06:11:16.748443Z"
    },
    "scrolled": false
   },
   "outputs": [
    {
     "name": "stdout",
     "output_type": "stream",
     "text": [
      "14\n",
      "[None, None, None, None, None, None, None, None, None, None, None, None, None, None]\n",
      "\u001b[31m#############################################\u001b[0m\n",
      "\u001b[31m#                                           #\u001b[0m\n",
      "\u001b[31m#        Successfully downloaded 100%       #\u001b[0m\n",
      "\u001b[31m#                                           #\u001b[0m\n",
      "\u001b[31m#############################################\u001b[0m\n"
     ]
    }
   ],
   "source": [
    "count_row = len(df_backup)\n",
    "\n",
    "##############################################3\n",
    "from joblib import Parallel, delayed #Libraries for parallel processing\n",
    "import multiprocessing\n",
    "\n",
    "#inputs = range(count_row) \n",
    "\n",
    "inputs = range(count_row) \n",
    "def processInput(i): # define a function to put into parallel processing\n",
    "    url = df_backup[i]\n",
    "    \n",
    "    \n",
    "\n",
    "    \n",
    "    \n",
    "############################################\n",
    "#           splitting foldrs               #\n",
    "############################################\n",
    "    spl = urlparse.urlsplit(url)\n",
    "\n",
    "    fname = spl.path.split(\"/\")[-1]   #splitting filename from URL\n",
    "    fname = fname.rstrip(\"\\n\")\n",
    "#    fname = fname.lstrip(\"\\n\")\n",
    "#    print(fname)\n",
    "    \n",
    "    kp = urlparse.urlsplit(fname)\n",
    "    ##############\n",
    "\n",
    "\n",
    "    freq = kp.path.split(\"_\")[1] ####extracting time frquency from URL\n",
    "#    print('freq folder is ',freq)\n",
    "    \n",
    "    model = kp.path.split(\"_\")[-5]  #extracting model name\n",
    "#    print('model is ',model)\n",
    "    \n",
    "    ensemble = kp.path.split(\"_\")[-3]    #extracting ensemble folder\n",
    "#    print('ensemble folder is ',ensemble)    \n",
    "\n",
    "    var = kp.path.split(\"_\")[0]\n",
    "#    print('variable folder is ',var)\n",
    "\n",
    "    grid = kp.path.split(\"_\")[-2] ####extracting grid\n",
    "#    print('grid is ', grid)\n",
    "\n",
    "\n",
    "    scenario = kp.path.split(\"_\")[-4]    #extracrting scenario \n",
    "#    print('scenario folder is ',scenario)\n",
    "\n",
    "    folder = model +'_'+scenario+'_'+ ensemble +'_'+ grid\n",
    "#    print(folder)\n",
    "\n",
    "\n",
    " \n",
    "\n",
    "\n",
    "    directory = f'/media/akash/POSTDOC_WORK/akash_works/DATASET_main/CMIP6/download_unavailable_models_in_hpc/raw_data/{freq}/{var}/{scenario}/{model}/';Path(directory).mkdir(parents=True, exist_ok=True)\n",
    "#    print(directory)\n",
    "\n",
    "    filename = directory+fname\n",
    "    \n",
    "    print('#############################')\n",
    "    print('#  Now downloading',i, 'th URL   #')\n",
    "    print('#############################')\n",
    "    print(url)\n",
    "    \n",
    "    \n",
    "#####################################\n",
    "##        Engine of script         ##\n",
    "#####################################\n",
    "    \n",
    "    if path.exists(filename):\n",
    "        try:\n",
    "            @retry(urllib.error.URLError, tries=2, delay=3, backoff=2)\n",
    "            def link_details(): #defining function to find detailes of link\n",
    "                url1 = urllib.request.urlopen(url)\n",
    "                global siz\n",
    "                siz=int(url1.info()['Content-Length'])#size of file to be downloaded\n",
    "            link_details()\n",
    "            if int(os.path.getsize(filename)) == siz: #if a file exists and the file size is similar to the file to downloaded\n",
    "                print('#############################')\n",
    "                print('#',i,'th link~ ','file exists #')\n",
    "                print('#############################')\n",
    "                pass\n",
    "            else:# if file existes but size is not similar (means file downloading crashed in between)\n",
    "                try:\n",
    "                    @retry(urllib.error.URLError, tries=2, delay=3, backoff=2)\n",
    "                    def urlopen_with_retry(): # defining file downloading function with retry\n",
    "                        return urlretrieve(url,filename)\n",
    "                    urlopen_with_retry()# calling file downloading function\n",
    "                    print(colored('##########################################', 'red'))\n",
    "                    print(colored('#  ',i,'th link downloaded successfully  #', 'red'))\n",
    "                    print(colored('##########################################', 'red'))\n",
    "                except urllib.error.HTTPError as err:# giving exceptions if again resulting in errors even after retrying\n",
    "                    print(i,'th link broken~ ','error code~ ',err.code)\n",
    "                    pass\n",
    "                except urllib.error.URLError as erro:\n",
    "                    print(i,'th link with URL error ')\n",
    "                    pass\n",
    "                except ConnectionResetError as e:\n",
    "                    print(i,'th link with ConnectionResetError');pass\n",
    "                except :\n",
    "                    print(i,'th link other errors');pass\n",
    "        except urllib.error.HTTPError as err:# giving exceptions for links those which can't even retrive details\n",
    "            print(i,'th link broken~ ','error code~ ',err.code)\n",
    "        except urllib.error.URLError as erro:\n",
    "            print(i,'th link with URL error ')\n",
    "        except ConnectionResetError as e:\n",
    "            print(i,'th link with ConnectionResetError');pass\n",
    "        except :\n",
    "            print(i,'th link other errors');pass\n",
    "    else:# if file does not exists\n",
    "        try:\n",
    "            @retry(urllib.error.URLError, tries=2, delay=3, backoff=2)\n",
    "            def urlopen_with_retry():\n",
    "                return urlretrieve(url,filename)\n",
    "                print('calling urlopen_with_retry')\n",
    "                print('please wait urlopen retrying...')\n",
    "            urlopen_with_retry()#directly calling download function\n",
    "            print(colored('##########################################', 'red'))\n",
    "            print(colored('#  ',i,'th link downloaded successfully  #', 'red'))\n",
    "            print(colored('##########################################', 'red'))\n",
    "        except urllib.error.HTTPError as err: # giving exceptions for HTTPError and URLError\n",
    "            print(i,'th link broken~ ','error code~ ',err.code)\n",
    "            pass\n",
    "        except urllib.error.URLError as erro:\n",
    "            print(i,'th link with URL error ')\n",
    "            pass\n",
    "        except ConnectionResetError as e:\n",
    "            print(i,'th link with ConnectionResetError');pass\n",
    "        except :\n",
    "            print(i,'th link other errors');pass\n",
    "\n",
    "num_cores = multiprocessing.cpu_count() # number of cores in the processor, in our case = 96 # if you want you can use n_jobs=num_cores in the below line\n",
    "results = Parallel(n_jobs=30)(delayed(processInput)(i) for i in inputs) # n_jobs = number of files want to download parallely\n",
    "print(len(results))                                              # and calling function with parallel processing\n",
    "print(results) \n",
    "\n",
    "print(colored('#############################################', 'red'))\n",
    "print(colored('#                                           #', 'red'))\n",
    "print(colored('#        Successfully downloaded 100%       #', 'red'))\n",
    "print(colored('#                                           #', 'red'))\n",
    "print(colored('#############################################', 'red'))\n"
   ]
  },
  {
   "cell_type": "code",
   "execution_count": null,
   "metadata": {},
   "outputs": [],
   "source": []
  },
  {
   "attachments": {
    "Thanos%20vs%20Strange%20Please%20follow%20me_%20-@marvel_entertainment_ig.jpeg": {
     "image/jpeg": "[encoded data removed]"
    }
   },
   "cell_type": "markdown",
   "metadata": {},
   "source": [
    "![Thanos%20vs%20Strange%20Please%20follow%20me_%20-@marvel_entertainment_ig.jpeg](attachment:Thanos%20vs%20Strange%20Please%20follow%20me_%20-@marvel_entertainment_ig.jpeg)"
   ]
  },
  {
   "cell_type": "markdown",
   "metadata": {},
   "source": [
    "<h3 style='font-size:3rem;color:blue;'>Here just think about replacing Thanos with ESGF webside </h3>\n",
    "\n",
    "<h3 style='font-size:3rem;color:blue;'>then we are doing the same what Dr. Strange done here</h3>"
   ]
  },
  {
   "cell_type": "markdown",
   "metadata": {},
   "source": [
    " "
   ]
  },
  {
   "cell_type": "markdown",
   "metadata": {},
   "source": [
    " "
   ]
  },
  {
   "cell_type": "markdown",
   "metadata": {},
   "source": [
    "<h1 style='font-size:3rem;color:red;'>recheck all files are OK or not </h1>\n"
   ]
  },
  {
   "cell_type": "markdown",
   "metadata": {},
   "source": [
    "## Make new list of failed links"
   ]
  },
  {
   "cell_type": "code",
   "execution_count": 117,
   "metadata": {
    "ExecuteTime": {
     "end_time": "2023-07-29T06:21:08.856642Z",
     "start_time": "2023-07-29T06:21:08.853703Z"
    }
   },
   "outputs": [],
   "source": [
    "testing_list=[] # to make clear any of the file got corrupted"
   ]
  },
  {
   "cell_type": "code",
   "execution_count": 123,
   "metadata": {
    "ExecuteTime": {
     "end_time": "2023-07-29T06:35:58.784596Z",
     "start_time": "2023-07-29T06:35:53.907571Z"
    }
   },
   "outputs": [
    {
     "data": {
      "application/vnd.jupyter.widget-view+json": {
       "model_id": "371bbf73fee94fb3a900d8819186fae0",
       "version_major": 2,
       "version_minor": 0
      },
      "text/plain": [
       "  0%|          | 0/14 [00:00<?, ?it/s]"
      ]
     },
     "metadata": {},
     "output_type": "display_data"
    },
    {
     "name": "stdout",
     "output_type": "stream",
     "text": [
      "\u001b[31m completed 7.142857142857142 %\u001b[0m\n",
      "for tos_Omon_ACCESS-ESM1-5_historical_r1i1p1f1_gn_185001-201412.nc there is 1980 time steps in tos_Omon_ACCESS-ESM1-5_historical_r1i1p1f1_gn_185001-201412.nc\n",
      "\u001b[31m completed 14.285714285714285 %\u001b[0m\n",
      "\u001b[31m completed 21.428571428571427 %\u001b[0m\n",
      "for tos_Omon_ACCESS-ESM1-5_historical_r1i1p1f1_gn_185001-201412.nc there is 1980 time steps in tos_Omon_ACCESS-ESM1-5_historical_r1i1p1f1_gn_185001-201412.nc\n",
      "\u001b[31m completed 28.57142857142857 %\u001b[0m\n",
      "\u001b[31m completed 35.714285714285715 %\u001b[0m\n",
      "\u001b[31m completed 42.857142857142854 %\u001b[0m\n",
      "\u001b[31m completed 50.0 %\u001b[0m\n",
      "for tos_Omon_ACCESS-ESM1-5_historical_r1i1p1f1_gn_185001-201412.nc there is 1980 time steps in tos_Omon_ACCESS-ESM1-5_historical_r1i1p1f1_gn_185001-201412.nc\n",
      "\u001b[31m completed 57.14285714285714 %\u001b[0m\n",
      "for tos_Omon_ACCESS-ESM1-5_historical_r1i1p1f1_gn_185001-201412.nc there is 1980 time steps in tos_Omon_ACCESS-ESM1-5_historical_r1i1p1f1_gn_185001-201412.nc\n",
      "\u001b[31m completed 64.28571428571429 %\u001b[0m\n",
      "\u001b[31m completed 71.42857142857143 %\u001b[0m\n",
      "\u001b[31m completed 78.57142857142857 %\u001b[0m\n",
      "\u001b[31m completed 85.71428571428571 %\u001b[0m\n",
      "\u001b[31m completed 92.85714285714286 %\u001b[0m\n",
      "\u001b[31m completed 100.0 %\u001b[0m\n",
      "for tos_Omon_ACCESS-ESM1-5_historical_r1i1p1f1_gn_185001-201412.nc there is 1980 time steps in tos_Omon_ACCESS-ESM1-5_historical_r1i1p1f1_gn_185001-201412.nc\n",
      "number of links to download again=  9\n",
      "number of files didnt downloaded =  9\n"
     ]
    }
   ],
   "source": [
    "######################################################\n",
    "##           Checking for corrupted files           ##\n",
    "######################################################\n",
    "\n",
    "from cdo import *   # python version\n",
    "cdo = Cdo()\n",
    "import itertools\n",
    "from os import listdir\n",
    "from os.path import isfile, join\n",
    "import re\n",
    "import glob\n",
    "import os\n",
    "import shutil\n",
    "import os.path\n",
    "count_row = len(df_backup)\n",
    "not_downloaded=0\n",
    "crashed_years=0\n",
    "new_set=[]\n",
    "def checkYear(year):\n",
    "    return (((year % 4 == 0) and (year % 100 != 0)) or (year % 400 == 0));\n",
    "##############################################\n",
    "##                 for CMIP6                ##\n",
    "##############################################\n",
    "for i in tqdm(range(count_row)):\n",
    "#for i in range(676, 4961, 1):\n",
    "\n",
    "\n",
    "    url = df_backup[i]\n",
    "    spl = urlparse.urlsplit(url)\n",
    "\n",
    "    fname = spl.path.split(\"/\")[-1]   #splitting filename from URL\n",
    "    fname = fname.rstrip(\"\\n\")\n",
    "#    fname = fname.lstrip(\"\\n\")\n",
    "#    print(fname)\n",
    "    \n",
    "    kp = urlparse.urlsplit(fname)\n",
    "    ##############\n",
    "\n",
    "\n",
    "    freq = kp.path.split(\"_\")[1] ####extracting time frquency from URL\n",
    "#    print('freq folder is ',freq)\n",
    "    \n",
    "    model = kp.path.split(\"_\")[-5]  #extracting model name\n",
    "#    print('model is ',model)\n",
    "    \n",
    "    ensemble = kp.path.split(\"_\")[-3]    #extracting ensemble folder\n",
    "#    print('ensemble folder is ',ensemble)    \n",
    "\n",
    "    var = kp.path.split(\"_\")[0]\n",
    "#    print('variable folder is ',var)\n",
    "\n",
    "    grid = kp.path.split(\"_\")[-2] ####extracting grid\n",
    "#    print('grid is ', grid)\n",
    "\n",
    "\n",
    "    scenario = kp.path.split(\"_\")[-4]    #extracrting scenario \n",
    "#    print('scenario folder is ',scenario)\n",
    "\n",
    "    folder = model +'_'+scenario+'_'+ ensemble +'_'+ grid\n",
    "#    print(folder)\n",
    "\n",
    "\n",
    " \n",
    "\n",
    "\n",
    "    directory = f'{root_fldr}raw_data/{freq}/{var}/{scenario}/{model}/';Path(directory).mkdir(parents=True, exist_ok=True)\n",
    "#    print(directory)\n",
    "    \n",
    "\n",
    "    filename = directory+fname  \n",
    "#     print('full filename = ' , filename)\n",
    "    ###################################################\n",
    "    ###################################################\n",
    "    print(colored(f' completed {((i+1)/count_row)*100} %', 'red'))\n",
    "    if os.path.exists(filename):\n",
    "        try:\n",
    "            start_yr=int(cdo.showyear(input=filename)[0].split()[0]) #starting year and ending year \n",
    "            end_yr=int(cdo.showyear(input=filename)[0].split()[-1])  #retrive using cdoPython\n",
    "            for yr in range(start_yr,end_yr+1,1): # in each year timesteps deciding\n",
    "                days=0\n",
    "#                 if checkYear(yr):                 # if it is a leapyear\n",
    "#                     days+=366                      # days=366\n",
    "#                 else:\n",
    "#                     days+=365\n",
    "            days=(end_yr-start_yr+1)*12 # for monthly data use this command, if day data you are downloaded uncomment above 4 lines and comment this line\n",
    "            #print(f' doing {fname} for year {yr}')\n",
    "            cdo.sinfo(input=filename) # just for proper working of 'except' statement\n",
    "            if days > (int((cdo.ndate(input=f' {filename}'))[0])): #if timesteps is less \n",
    "                print(f'filename {fname} is corrupted')       #than we given\n",
    "                crashed_years=crashed_years+1\n",
    "                new_set.append(df_backup[i]) # appending that url to another list\n",
    "                os.remove(filename)          # And removing that corresponding corrupted file\n",
    "                break # Breaking that loop and will not check rest of the years in that file\n",
    "                \n",
    "            print(f'for {fname} there is {days} time steps in {fname}')\n",
    "        except CDOException: # If file is corrupted, it may end with CDOException\n",
    "            new_set.append(df_backup[i])\n",
    "            os.remove(filename)\n",
    "            pass\n",
    "        except FileNotFoundError:\n",
    "            new_set.append(df_backup[i])\n",
    "            os.remove(filename)\n",
    "            pass\n",
    "                \n",
    "                \n",
    "    if not os.path.exists(filename): # if  path does not exists\n",
    "        new_set.append(df_backup[i]) # again appending to new list\n",
    "        not_downloaded=not_downloaded+1\n",
    "        \n",
    "new_set\n",
    "failed_df = []\n",
    "[failed_df.append(x) for x in new_set if x not in failed_df] #renaming list and avoiding duplications\n",
    "count_row=len(failed_df)\n",
    "print('number of links to download again= ',count_row)\n",
    "\n",
    "print('number of files didnt downloaded = ', not_downloaded)"
   ]
  },
  {
   "cell_type": "code",
   "execution_count": null,
   "metadata": {
    "ExecuteTime": {
     "end_time": "2023-07-29T06:31:04.357806Z",
     "start_time": "2023-07-29T06:31:04.349849Z"
    }
   },
   "outputs": [],
   "source": []
  },
  {
   "cell_type": "code",
   "execution_count": null,
   "metadata": {
    "ExecuteTime": {
     "end_time": "2023-07-29T06:19:46.645643Z",
     "start_time": "2023-07-29T06:19:46.493055Z"
    }
   },
   "outputs": [],
   "source": []
  },
  {
   "cell_type": "markdown",
   "metadata": {},
   "source": [
    "## Redownload failed links"
   ]
  },
  {
   "cell_type": "code",
   "execution_count": 127,
   "metadata": {
    "ExecuteTime": {
     "end_time": "2023-07-29T06:46:50.876656Z",
     "start_time": "2023-07-29T06:46:49.261444Z"
    },
    "scrolled": true
   },
   "outputs": [
    {
     "name": "stdout",
     "output_type": "stream",
     "text": [
      "9\n",
      "[None, None, None, None, None, None, None, None, None]\n",
      "\u001b[31m#############################################\u001b[0m\n",
      "\u001b[31m#                                           #\u001b[0m\n",
      "\u001b[31m#    Successfully downloaded failed links   #\u001b[0m\n",
      "\u001b[31m#                                           #\u001b[0m\n",
      "\u001b[31m#############################################\u001b[0m\n"
     ]
    }
   ],
   "source": [
    "####################################################################\n",
    "## redownload using the above same shell,but using list failed_df ##\n",
    "####################################################################\n",
    "from joblib import Parallel, delayed\n",
    "import multiprocessing\n",
    "\n",
    "#inputs = range(count_row) \n",
    "\n",
    "inputs = range(count_row) \n",
    "def processInput(i):\n",
    "    url = failed_df[i]# Run with failed_df (list of failed links)\n",
    "    \n",
    "    \n",
    "\n",
    "    \n",
    "    \n",
    "############################################\n",
    "#           splitting foldrs               #\n",
    "############################################\n",
    "    spl = urlparse.urlsplit(url)\n",
    "\n",
    "    fname = spl.path.split(\"/\")[-1]   #splitting filename from URL\n",
    "    fname = fname.rstrip(\"\\n\")\n",
    "#    fname = fname.lstrip(\"\\n\")\n",
    "#    print(fname)\n",
    "\n",
    "    kp = urlparse.urlsplit(fname)\n",
    "    ##############\n",
    "\n",
    "    freq = kp.path.split(\"_\")[1] ####extracting time frquency from URL\n",
    "#    print('freq folder is ',freq)\n",
    "\n",
    "    model = kp.path.split(\"_\")[-5]  #extracting model name\n",
    "#    print('model is ',model)\n",
    "\n",
    "    ensemble = kp.path.split(\"_\")[-3]    #extracting ensemble folder\n",
    "#    print('ensemble folder is ',ensemble)    \n",
    "\n",
    "    var = kp.path.split(\"_\")[0]\n",
    "#    print('variable folder is ',var)\n",
    "\n",
    "    grid = kp.path.split(\"_\")[-2] ####extracting grid\n",
    "#    print('grid is ', grid)\n",
    "\n",
    "\n",
    "    scenario = kp.path.split(\"_\")[-4]    #extracrting scenario \n",
    "#    print('scenario folder is ',scenario)\n",
    "\n",
    "    folder = model +'_'+scenario+'_'+ ensemble +'_'+ grid\n",
    "#    print(folder)\n",
    "\n",
    "\n",
    "\n",
    "    directory = f'/media/akash/POSTDOC_WORK/akash_works/DATASET_main/CMIP6/download_unavailable_models_in_hpc/raw_data/{freq}/{var}/{scenario}/{model}/';Path(directory).mkdir(parents=True, exist_ok=True)\n",
    "#    print(directory)\n",
    "\n",
    "    filename = directory+fname\n",
    "\n",
    "    print('#############################')\n",
    "    print('#  Now downloading',i, 'th URL   #')\n",
    "    print('#############################')\n",
    "    print(url)\n",
    "\n",
    "\n",
    "#####################################\n",
    "##        Engine of script         ##\n",
    "#####################################\n",
    "\n",
    "    if path.exists(filename):\n",
    "        try:\n",
    "            @retry(urllib.error.URLError, tries=2, delay=3, backoff=2)\n",
    "            def link_details(): #defining function to find detailes of link\n",
    "                url1 = urllib.request.urlopen(url)\n",
    "                global siz\n",
    "                siz=int(url1.info()['Content-Length'])#size of file to be downloaded\n",
    "            link_details()\n",
    "            if int(os.path.getsize(filename)) == siz: #if a file exists and the file size is similar to the file to downloaded\n",
    "                print('#############################')\n",
    "                print('#',i,'th link~ ','file exists #')\n",
    "                print('#############################')\n",
    "                pass\n",
    "            else:# if file existes but size is not similar (means file downloading crashed in between)\n",
    "                try:\n",
    "                    @retry(urllib.error.URLError, tries=2, delay=3, backoff=2)\n",
    "                    def urlopen_with_retry(): # defining file downloading function with retry\n",
    "                        return urlretrieve(url,filename)\n",
    "                    urlopen_with_retry()# calling file downloading function\n",
    "                    print(colored('##########################################', 'red'))\n",
    "                    print(colored('#  ',i,'th link downloaded successfully  #', 'red'))\n",
    "                    print(colored('##########################################', 'red'))\n",
    "                except urllib.error.HTTPError as err:# giving exceptions if again resulting in errors even after retrying\n",
    "                    print(i,'th link broken~ ','error code~ ',err.code)\n",
    "                    pass\n",
    "                except urllib.error.URLError as erro:\n",
    "                    print(i,'th link with URL error ')\n",
    "                    pass\n",
    "                except ConnectionResetError as e:\n",
    "                    print(i,'th link with ConnectionResetError');pass\n",
    "                except :\n",
    "                    print(i,'th link other errors');pass\n",
    "        except urllib.error.HTTPError as err:# giving exceptions for links those which can't even retrive details\n",
    "            print(i,'th link broken~ ','error code~ ',err.code)\n",
    "        except urllib.error.URLError as erro:\n",
    "            print(i,'th link with URL error ')\n",
    "        except ConnectionResetError as e:\n",
    "            print(i,'th link with ConnectionResetError');pass\n",
    "        except :\n",
    "            print(i,'th link other errors');pass\n",
    "        \n",
    "    else:# if file does not exists\n",
    "        try:\n",
    "            @retry(urllib.error.URLError, tries=2, delay=3, backoff=2)\n",
    "            def urlopen_with_retry():\n",
    "                return urlretrieve(url,filename)\n",
    "                print('calling urlopen_with_retry')\n",
    "                print('please wait urlopen retrying...')\n",
    "            urlopen_with_retry()#directly calling download function\n",
    "            print(colored('##########################################', 'red'))\n",
    "            print(colored('#  ',i,'th link downloaded successfully  #', 'red'))\n",
    "            print(colored('##########################################', 'red'))\n",
    "        except urllib.error.HTTPError as err: # giving exceptions for HTTPError and URLError\n",
    "            print(i,'th link broken~ ','error code~ ',err.code)\n",
    "            pass\n",
    "        except urllib.error.URLError as erro:\n",
    "            print(i,'th link with URL error ')\n",
    "            pass\n",
    "        except ConnectionResetError as e:\n",
    "            print(i,'th link with ConnectionResetError');pass\n",
    "        except :\n",
    "            print(i,'th link other errors');pass\n",
    "\n",
    "num_cores = multiprocessing.cpu_count() # number of cores in the processor, in our case = 96\n",
    "results = Parallel(n_jobs=20)(delayed(processInput)(i) for i in inputs) # n_jobs = number of files want to download parallely\n",
    "print(len(results))                                              # and calling function with parallel processing\n",
    "print(results) \n",
    "\n",
    "print(colored('#############################################', 'red'))\n",
    "print(colored('#                                           #', 'red'))\n",
    "print(colored('#    Successfully downloaded failed links   #', 'red'))\n",
    "print(colored('#                                           #', 'red'))\n",
    "print(colored('#############################################', 'red'))\n"
   ]
  },
  {
   "cell_type": "code",
   "execution_count": 128,
   "metadata": {
    "ExecuteTime": {
     "end_time": "2023-07-29T06:48:11.158114Z",
     "start_time": "2023-07-29T06:48:11.155817Z"
    }
   },
   "outputs": [
    {
     "name": "stdout",
     "output_type": "stream",
     "text": [
      "[9]\n"
     ]
    }
   ],
   "source": [
    "testing_list.append(count_row)\n",
    "print(testing_list)"
   ]
  },
  {
   "cell_type": "markdown",
   "metadata": {
    "scrolled": true
   },
   "source": [
    "<h1 style='font-size:3rem;color:red;'> Script to merge all the downloaded file inside each folder and rename it </h1>"
   ]
  },
  {
   "cell_type": "markdown",
   "metadata": {},
   "source": [
    "## Merging all files inside subfolders in the parent folder"
   ]
  },
  {
   "cell_type": "code",
   "execution_count": 135,
   "metadata": {
    "ExecuteTime": {
     "end_time": "2023-07-29T07:00:39.572291Z",
     "start_time": "2023-07-29T06:59:00.409027Z"
    },
    "scrolled": true
   },
   "outputs": [
    {
     "name": "stdout",
     "output_type": "stream",
     "text": [
      "['/media/akash/POSTDOC_WORK/akash_works/DATASET_main/CMIP6/download_unavailable_models_in_hpc/raw_data/Omon/tos/historical/', '/media/akash/POSTDOC_WORK/akash_works/DATASET_main/CMIP6/download_unavailable_models_in_hpc/raw_data/Omon/tos/historical/GFDL-CM4', '/media/akash/POSTDOC_WORK/akash_works/DATASET_main/CMIP6/download_unavailable_models_in_hpc/raw_data/Omon/tos/historical/GFDL-ESM4', '/media/akash/POSTDOC_WORK/akash_works/DATASET_main/CMIP6/download_unavailable_models_in_hpc/raw_data/Omon/tos/historical/ACCESS-ESM1-5', '/media/akash/POSTDOC_WORK/akash_works/DATASET_main/CMIP6/download_unavailable_models_in_hpc/raw_data/Omon/tos/historical/GISS-E2-1-G', '/media/akash/POSTDOC_WORK/akash_works/DATASET_main/CMIP6/download_unavailable_models_in_hpc/raw_data/Omon/tos/historical/BCC-CSM2-MR'] \n",
      "\n"
     ]
    },
    {
     "data": {
      "application/vnd.jupyter.widget-view+json": {
       "model_id": "460eb8bbc71a4d9c92a9731a128443bd",
       "version_major": 2,
       "version_minor": 0
      },
      "text/plain": [
       "  0%|          | 0/6 [00:00<?, ?it/s]"
      ]
     },
     "metadata": {},
     "output_type": "display_data"
    },
    {
     "name": "stdout",
     "output_type": "stream",
     "text": [
      "Doing operation inside folder  /media/akash/POSTDOC_WORK/akash_works/DATASET_main/CMIP6/download_unavailable_models_in_hpc/raw_data/Omon/tos/historical/\n",
      "Folder  /media/akash/POSTDOC_WORK/akash_works/DATASET_main/CMIP6/download_unavailable_models_in_hpc/raw_data/Omon/tos/historical/  is empty\n",
      "Folder  /media/akash/POSTDOC_WORK/akash_works/DATASET_main/CMIP6/download_unavailable_models_in_hpc/raw_data/Omon/tos/historical/  is empty\n",
      "Folder  /media/akash/POSTDOC_WORK/akash_works/DATASET_main/CMIP6/download_unavailable_models_in_hpc/raw_data/Omon/tos/historical/  is empty\n",
      "Doing operation inside folder  /media/akash/POSTDOC_WORK/akash_works/DATASET_main/CMIP6/download_unavailable_models_in_hpc/raw_data/Omon/tos/historical/GFDL-CM4\n",
      "going to merge tos_Omon_GFDL-CM4_historical_r1i1p1f1_gn_197001-198912.nc, tos_Omon_GFDL-CM4_historical_r1i1p1f1_gn_199001-200912.nc, tos_Omon_GFDL-CM4_historical_r1i1p1f1_gn_201001-201412.nc to /media/akash/POSTDOC_WORK/akash_works/DATASET_main/CMIP6/download_unavailable_models_in_hpc/merged_data/tos_Omon_GFDL-CM4_historical_r1i1p1f1_gn_197001-201412.nc\n",
      "\u001b[32m✓✓✓ Meged above mentioned 3 files to /media/akash/POSTDOC_WORK/akash_works/DATASET_main/CMIP6/download_unavailable_models_in_hpc/merged_data/tos_Omon_GFDL-CM4_historical_r1i1p1f1_gn_197001-201412.nc ✓✓✓\u001b[0m\n",
      "\n",
      " \n",
      " \n",
      " \n",
      "Successfully merged/copied and saved as /media/akash/POSTDOC_WORK/akash_works/DATASET_main/CMIP6/download_unavailable_models_in_hpc/merged_data/tos_Omon_GFDL-CM4_historical_r1i1p1f1_gn_197001-201412.nc\n",
      "\n",
      " \n",
      " \n",
      " \n",
      "Folder  /media/akash/POSTDOC_WORK/akash_works/DATASET_main/CMIP6/download_unavailable_models_in_hpc/raw_data/Omon/tos/historical/GFDL-CM4  is empty\n",
      "Folder  /media/akash/POSTDOC_WORK/akash_works/DATASET_main/CMIP6/download_unavailable_models_in_hpc/raw_data/Omon/tos/historical/GFDL-CM4  is empty\n",
      "Doing operation inside folder  /media/akash/POSTDOC_WORK/akash_works/DATASET_main/CMIP6/download_unavailable_models_in_hpc/raw_data/Omon/tos/historical/GFDL-ESM4\n",
      "going to merge tos_Omon_GFDL-ESM4_historical_r1i1p1f1_gn_197001-198912.nc, tos_Omon_GFDL-ESM4_historical_r1i1p1f1_gn_199001-200912.nc, tos_Omon_GFDL-ESM4_historical_r1i1p1f1_gn_201001-201412.nc to /media/akash/POSTDOC_WORK/akash_works/DATASET_main/CMIP6/download_unavailable_models_in_hpc/merged_data/tos_Omon_GFDL-ESM4_historical_r1i1p1f1_gn_197001-201412.nc\n",
      "\u001b[32m✓✓✓ Meged above mentioned 3 files to /media/akash/POSTDOC_WORK/akash_works/DATASET_main/CMIP6/download_unavailable_models_in_hpc/merged_data/tos_Omon_GFDL-ESM4_historical_r1i1p1f1_gn_197001-201412.nc ✓✓✓\u001b[0m\n",
      "\n",
      " \n",
      " \n",
      " \n",
      "Successfully merged/copied and saved as /media/akash/POSTDOC_WORK/akash_works/DATASET_main/CMIP6/download_unavailable_models_in_hpc/merged_data/tos_Omon_GFDL-ESM4_historical_r1i1p1f1_gn_197001-201412.nc\n",
      "\n",
      " \n",
      " \n",
      " \n",
      "going to merge tos_Omon_GFDL-ESM4_historical_r2i1p1f1_gn_201001-201412.nc, tos_Omon_GFDL-ESM4_historical_r2i1p1f1_gn_199001-200912.nc, tos_Omon_GFDL-ESM4_historical_r2i1p1f1_gn_197001-198912.nc to /media/akash/POSTDOC_WORK/akash_works/DATASET_main/CMIP6/download_unavailable_models_in_hpc/merged_data/tos_Omon_GFDL-ESM4_historical_r2i1p1f1_gn_197001-201412.nc\n",
      "\u001b[32m✓✓✓ Meged above mentioned 3 files to /media/akash/POSTDOC_WORK/akash_works/DATASET_main/CMIP6/download_unavailable_models_in_hpc/merged_data/tos_Omon_GFDL-ESM4_historical_r2i1p1f1_gn_197001-201412.nc ✓✓✓\u001b[0m\n",
      "\n",
      " \n",
      " \n",
      " \n",
      "Successfully merged/copied and saved as /media/akash/POSTDOC_WORK/akash_works/DATASET_main/CMIP6/download_unavailable_models_in_hpc/merged_data/tos_Omon_GFDL-ESM4_historical_r2i1p1f1_gn_197001-201412.nc\n",
      "\n",
      " \n",
      " \n",
      " \n",
      "going to merge tos_Omon_GFDL-ESM4_historical_r3i1p1f1_gn_197001-198912.nc, tos_Omon_GFDL-ESM4_historical_r3i1p1f1_gn_199001-200912.nc, tos_Omon_GFDL-ESM4_historical_r3i1p1f1_gn_201001-201412.nc to /media/akash/POSTDOC_WORK/akash_works/DATASET_main/CMIP6/download_unavailable_models_in_hpc/merged_data/tos_Omon_GFDL-ESM4_historical_r3i1p1f1_gn_197001-201412.nc\n",
      "\u001b[32m✓✓✓ Meged above mentioned 3 files to /media/akash/POSTDOC_WORK/akash_works/DATASET_main/CMIP6/download_unavailable_models_in_hpc/merged_data/tos_Omon_GFDL-ESM4_historical_r3i1p1f1_gn_197001-201412.nc ✓✓✓\u001b[0m\n",
      "\n",
      " \n",
      " \n",
      " \n",
      "Successfully merged/copied and saved as /media/akash/POSTDOC_WORK/akash_works/DATASET_main/CMIP6/download_unavailable_models_in_hpc/merged_data/tos_Omon_GFDL-ESM4_historical_r3i1p1f1_gn_197001-201412.nc\n",
      "\n",
      " \n",
      " \n",
      " \n",
      "Doing operation inside folder  /media/akash/POSTDOC_WORK/akash_works/DATASET_main/CMIP6/download_unavailable_models_in_hpc/raw_data/Omon/tos/historical/ACCESS-ESM1-5\n",
      "going to merge tos_Omon_ACCESS-ESM1-5_historical_r1i1p1f1_gn_185001-201412.nc to /media/akash/POSTDOC_WORK/akash_works/DATASET_main/CMIP6/download_unavailable_models_in_hpc/merged_data/tos_Omon_ACCESS-ESM1-5_historical_r1i1p1f1_gn_185001-201412.nc\n",
      "in_f_name= /media/akash/POSTDOC_WORK/akash_works/DATASET_main/CMIP6/download_unavailable_models_in_hpc/raw_data/Omon/tos/historical/ACCESS-ESM1-5/tos_Omon_ACCESS-ESM1-5_historical_r1i1p1f1_gn_185001-201412.nc, out_f_name= /media/akash/POSTDOC_WORK/akash_works/DATASET_main/CMIP6/download_unavailable_models_in_hpc/merged_data/tos_Omon_ACCESS-ESM1-5_historical_r1i1p1f1_gn_185001-201412.nc\n",
      "\n",
      " \n",
      " \n",
      " \n",
      "Successfully merged/copied and saved as /media/akash/POSTDOC_WORK/akash_works/DATASET_main/CMIP6/download_unavailable_models_in_hpc/merged_data/tos_Omon_ACCESS-ESM1-5_historical_r1i1p1f1_gn_185001-201412.nc\n",
      "\n",
      " \n",
      " \n",
      " \n",
      "going to merge tos_Omon_ACCESS-ESM1-5_historical_r2i1p1f1_gn_185001-201412.nc to /media/akash/POSTDOC_WORK/akash_works/DATASET_main/CMIP6/download_unavailable_models_in_hpc/merged_data/tos_Omon_ACCESS-ESM1-5_historical_r2i1p1f1_gn_185001-201412.nc\n",
      "in_f_name= /media/akash/POSTDOC_WORK/akash_works/DATASET_main/CMIP6/download_unavailable_models_in_hpc/raw_data/Omon/tos/historical/ACCESS-ESM1-5/tos_Omon_ACCESS-ESM1-5_historical_r2i1p1f1_gn_185001-201412.nc, out_f_name= /media/akash/POSTDOC_WORK/akash_works/DATASET_main/CMIP6/download_unavailable_models_in_hpc/merged_data/tos_Omon_ACCESS-ESM1-5_historical_r2i1p1f1_gn_185001-201412.nc\n",
      "\n",
      " \n",
      " \n",
      " \n",
      "Successfully merged/copied and saved as /media/akash/POSTDOC_WORK/akash_works/DATASET_main/CMIP6/download_unavailable_models_in_hpc/merged_data/tos_Omon_ACCESS-ESM1-5_historical_r2i1p1f1_gn_185001-201412.nc\n",
      "\n",
      " \n",
      " \n",
      " \n",
      "going to merge tos_Omon_ACCESS-ESM1-5_historical_r3i1p1f1_gn_185001-201412.nc to /media/akash/POSTDOC_WORK/akash_works/DATASET_main/CMIP6/download_unavailable_models_in_hpc/merged_data/tos_Omon_ACCESS-ESM1-5_historical_r3i1p1f1_gn_185001-201412.nc\n",
      "in_f_name= /media/akash/POSTDOC_WORK/akash_works/DATASET_main/CMIP6/download_unavailable_models_in_hpc/raw_data/Omon/tos/historical/ACCESS-ESM1-5/tos_Omon_ACCESS-ESM1-5_historical_r3i1p1f1_gn_185001-201412.nc, out_f_name= /media/akash/POSTDOC_WORK/akash_works/DATASET_main/CMIP6/download_unavailable_models_in_hpc/merged_data/tos_Omon_ACCESS-ESM1-5_historical_r3i1p1f1_gn_185001-201412.nc\n",
      "\n",
      " \n",
      " \n",
      " \n",
      "Successfully merged/copied and saved as /media/akash/POSTDOC_WORK/akash_works/DATASET_main/CMIP6/download_unavailable_models_in_hpc/merged_data/tos_Omon_ACCESS-ESM1-5_historical_r3i1p1f1_gn_185001-201412.nc\n",
      "\n",
      " \n",
      " \n",
      " \n",
      "Doing operation inside folder  /media/akash/POSTDOC_WORK/akash_works/DATASET_main/CMIP6/download_unavailable_models_in_hpc/raw_data/Omon/tos/historical/GISS-E2-1-G\n",
      "going to merge tos_Omon_GISS-E2-1-G_historical_r1i1p1f1_gn_195101-200012.nc, tos_Omon_GISS-E2-1-G_historical_r1i1p1f1_gn_200101-201412.nc to /media/akash/POSTDOC_WORK/akash_works/DATASET_main/CMIP6/download_unavailable_models_in_hpc/merged_data/tos_Omon_GISS-E2-1-G_historical_r1i1p1f1_gn_195101-201412.nc\n",
      "\u001b[32m✓✓✓ Meged above mentioned 2 files to /media/akash/POSTDOC_WORK/akash_works/DATASET_main/CMIP6/download_unavailable_models_in_hpc/merged_data/tos_Omon_GISS-E2-1-G_historical_r1i1p1f1_gn_195101-201412.nc ✓✓✓\u001b[0m\n",
      "\n",
      " \n",
      " \n",
      " \n",
      "Successfully merged/copied and saved as /media/akash/POSTDOC_WORK/akash_works/DATASET_main/CMIP6/download_unavailable_models_in_hpc/merged_data/tos_Omon_GISS-E2-1-G_historical_r1i1p1f1_gn_195101-201412.nc\n",
      "\n",
      " \n",
      " \n",
      " \n",
      "going to merge tos_Omon_GISS-E2-1-G_historical_r2i1p1f1_gn_195101-200012.nc, tos_Omon_GISS-E2-1-G_historical_r2i1p1f1_gn_200101-201412.nc to /media/akash/POSTDOC_WORK/akash_works/DATASET_main/CMIP6/download_unavailable_models_in_hpc/merged_data/tos_Omon_GISS-E2-1-G_historical_r2i1p1f1_gn_195101-201412.nc\n",
      "\u001b[32m✓✓✓ Meged above mentioned 2 files to /media/akash/POSTDOC_WORK/akash_works/DATASET_main/CMIP6/download_unavailable_models_in_hpc/merged_data/tos_Omon_GISS-E2-1-G_historical_r2i1p1f1_gn_195101-201412.nc ✓✓✓\u001b[0m\n",
      "\n",
      " \n",
      " \n",
      " \n",
      "Successfully merged/copied and saved as /media/akash/POSTDOC_WORK/akash_works/DATASET_main/CMIP6/download_unavailable_models_in_hpc/merged_data/tos_Omon_GISS-E2-1-G_historical_r2i1p1f1_gn_195101-201412.nc\n",
      "\n",
      " \n",
      " \n",
      " \n",
      "going to merge tos_Omon_GISS-E2-1-G_historical_r3i1p1f1_gn_195101-200012.nc, tos_Omon_GISS-E2-1-G_historical_r3i1p1f1_gn_200101-201412.nc to /media/akash/POSTDOC_WORK/akash_works/DATASET_main/CMIP6/download_unavailable_models_in_hpc/merged_data/tos_Omon_GISS-E2-1-G_historical_r3i1p1f1_gn_195101-201412.nc\n",
      "\u001b[32m✓✓✓ Meged above mentioned 2 files to /media/akash/POSTDOC_WORK/akash_works/DATASET_main/CMIP6/download_unavailable_models_in_hpc/merged_data/tos_Omon_GISS-E2-1-G_historical_r3i1p1f1_gn_195101-201412.nc ✓✓✓\u001b[0m\n",
      "\n",
      " \n",
      " \n",
      " \n",
      "Successfully merged/copied and saved as /media/akash/POSTDOC_WORK/akash_works/DATASET_main/CMIP6/download_unavailable_models_in_hpc/merged_data/tos_Omon_GISS-E2-1-G_historical_r3i1p1f1_gn_195101-201412.nc\n",
      "\n",
      " \n",
      " \n",
      " \n",
      "Doing operation inside folder  /media/akash/POSTDOC_WORK/akash_works/DATASET_main/CMIP6/download_unavailable_models_in_hpc/raw_data/Omon/tos/historical/BCC-CSM2-MR\n",
      "going to merge tos_Omon_BCC-CSM2-MR_historical_r1i1p1f1_gn_185001-201412.nc to /media/akash/POSTDOC_WORK/akash_works/DATASET_main/CMIP6/download_unavailable_models_in_hpc/merged_data/tos_Omon_BCC-CSM2-MR_historical_r1i1p1f1_gn_185001-201412.nc\n",
      "in_f_name= /media/akash/POSTDOC_WORK/akash_works/DATASET_main/CMIP6/download_unavailable_models_in_hpc/raw_data/Omon/tos/historical/BCC-CSM2-MR/tos_Omon_BCC-CSM2-MR_historical_r1i1p1f1_gn_185001-201412.nc, out_f_name= /media/akash/POSTDOC_WORK/akash_works/DATASET_main/CMIP6/download_unavailable_models_in_hpc/merged_data/tos_Omon_BCC-CSM2-MR_historical_r1i1p1f1_gn_185001-201412.nc\n",
      "\n",
      " \n",
      " \n",
      " \n",
      "Successfully merged/copied and saved as /media/akash/POSTDOC_WORK/akash_works/DATASET_main/CMIP6/download_unavailable_models_in_hpc/merged_data/tos_Omon_BCC-CSM2-MR_historical_r1i1p1f1_gn_185001-201412.nc\n",
      "\n",
      " \n",
      " \n",
      " \n",
      "going to merge tos_Omon_BCC-CSM2-MR_historical_r2i1p1f1_gn_185001-201412.nc to /media/akash/POSTDOC_WORK/akash_works/DATASET_main/CMIP6/download_unavailable_models_in_hpc/merged_data/tos_Omon_BCC-CSM2-MR_historical_r2i1p1f1_gn_185001-201412.nc\n",
      "in_f_name= /media/akash/POSTDOC_WORK/akash_works/DATASET_main/CMIP6/download_unavailable_models_in_hpc/raw_data/Omon/tos/historical/BCC-CSM2-MR/tos_Omon_BCC-CSM2-MR_historical_r2i1p1f1_gn_185001-201412.nc, out_f_name= /media/akash/POSTDOC_WORK/akash_works/DATASET_main/CMIP6/download_unavailable_models_in_hpc/merged_data/tos_Omon_BCC-CSM2-MR_historical_r2i1p1f1_gn_185001-201412.nc\n",
      "\n",
      " \n",
      " \n",
      " \n",
      "Successfully merged/copied and saved as /media/akash/POSTDOC_WORK/akash_works/DATASET_main/CMIP6/download_unavailable_models_in_hpc/merged_data/tos_Omon_BCC-CSM2-MR_historical_r2i1p1f1_gn_185001-201412.nc\n",
      "\n",
      " \n",
      " \n",
      " \n",
      "going to merge tos_Omon_BCC-CSM2-MR_historical_r3i1p1f1_gn_185001-201412.nc to /media/akash/POSTDOC_WORK/akash_works/DATASET_main/CMIP6/download_unavailable_models_in_hpc/merged_data/tos_Omon_BCC-CSM2-MR_historical_r3i1p1f1_gn_185001-201412.nc\n",
      "in_f_name= /media/akash/POSTDOC_WORK/akash_works/DATASET_main/CMIP6/download_unavailable_models_in_hpc/raw_data/Omon/tos/historical/BCC-CSM2-MR/tos_Omon_BCC-CSM2-MR_historical_r3i1p1f1_gn_185001-201412.nc, out_f_name= /media/akash/POSTDOC_WORK/akash_works/DATASET_main/CMIP6/download_unavailable_models_in_hpc/merged_data/tos_Omon_BCC-CSM2-MR_historical_r3i1p1f1_gn_185001-201412.nc\n",
      "\n",
      " \n",
      " \n",
      " \n",
      "Successfully merged/copied and saved as /media/akash/POSTDOC_WORK/akash_works/DATASET_main/CMIP6/download_unavailable_models_in_hpc/merged_data/tos_Omon_BCC-CSM2-MR_historical_r3i1p1f1_gn_185001-201412.nc\n",
      "\n",
      " \n",
      " \n",
      " \n",
      "\u001b[32m#############################################\u001b[0m\n",
      "\u001b[32m#                                           #\u001b[0m\n",
      "\u001b[32m#        Successfully completed Merging     #\u001b[0m\n",
      "\u001b[32m#                                           #\u001b[0m\n",
      "\u001b[32m#############################################\u001b[0m\n"
     ]
    }
   ],
   "source": [
    "\n",
    "scenarios= ['historical']\n",
    "variant_label=['r1i1p1f1','r2i1p1f1','r3i1p1f1'] # give all variant labels you tried to download\n",
    "rootDir=f'{root_fldr}raw_data/'\n",
    "out_fldr = f'{root_fldr}merged_data/'\n",
    "variables=['tos']\n",
    "\n",
    "\n",
    "\n",
    "\n",
    "import os\n",
    "from glob import glob\n",
    "def create_subset_with_keyword(main_set, keyword):\n",
    "    subset = [element for element in main_set if keyword in element]\n",
    "    return subset\n",
    "\n",
    "def listdirs(folder): #listing folders inside a parent folder\n",
    "    return [d for d in os.listdir(folder) if os.path.isdir(os.path.join(folder, d))]\n",
    "crashed_models=[]\n",
    "for var in (variables):\n",
    "    for scenario in (scenarios):\n",
    "        parent_fldr = f'{root_fldr}raw_data/Omon/{var}/{scenario}/'\n",
    "        sub_folder = [y for x in os.walk(parent_fldr) for y in glob(os.path.join(x[0], ))]\n",
    "        #result = [y for x in os.walk(parent_fldr) for y in glob(os.path.join(x[0], '*.nc'))]\n",
    "        print(sub_folder,'\\n') #;print(result,'\\n')\n",
    "        for sub_foldr in tqdm(sub_folder):\n",
    "            print('Doing operation inside folder ',sub_foldr)    \n",
    "\n",
    "            ####################################\n",
    "            #Picking files from sub folders\n",
    "            onlyfiles = [f for f in listdir(sub_foldr) if isfile(join(sub_foldr, f))]; onlyfiles= create_subset_with_keyword(onlyfiles, '.nc'); onlyfiles= create_subset_with_keyword(onlyfiles, '_gn_'); \n",
    "            for variant in variant_label:\n",
    "                variant_files= create_subset_with_keyword(onlyfiles, variant)\n",
    "                \n",
    "                if len(variant_files) >= 1: # if number of files inside a model folder is non zero\n",
    "                    years=[] # empty list of years\n",
    "                    for ii in range(len((variant_files))):\n",
    "                        years.append( int(((variant_files[ii].split('_')[-1]).split('.')[0]).split('-')[0]))\n",
    "                        years.append( int(((variant_files[ii].split('_')[-1]).split('.')[0]).split('-')[1]))\n",
    "\n",
    "                    yrmax = (max(years)) #finding maximum and minmum time period(years 6digit) to rename merged file\n",
    "                    yrmin = (min(years))\n",
    "                    #print(f'for {variant_files} yearmin and max = {yrmin}, {yrmax}')\n",
    "                    in_f_name = (' ').join([f\"{sub_foldr}/\" + x for x in variant_files]) #in_f_name -> to give as input files for timmerge or copying \n",
    "                    out_f_name= out_fldr+('_').join(variant_files[0].split('_')[:-1])+f'_{yrmin}-{yrmax}.nc' #out_f_name -> to give as output filename for timmerge or copying \n",
    "                    #print(f'in_f_name= {in_f_name}, out_f_name= {out_f_name}')\n",
    "                    ss=', ' ; print(f'going to merge {(ss).join(variant_files)} to {out_f_name}')\n",
    "\n",
    "\n",
    "\n",
    "#                 ###############################################\n",
    "#                 ###############################################\n",
    "#                 ###############################################\n",
    "                    if len(variant_files) == 1: # Just copying file to out_fldr, if only a single file is there\n",
    "                        print(f'in_f_name= {in_f_name}, out_f_name= {out_f_name}')\n",
    "                        shutil.copy2(in_f_name,out_f_name)\n",
    "                        \n",
    "                    if len(variant_files) > 1: # if no. of files inside model folder >1 :\n",
    "                        try:\n",
    "                            cdo.mergetime(input=in_f_name, output=out_f_name) # try to merge file using cdoPython\n",
    "                            print(colored(f'✓✓✓ Meged above mentioned {len(variant_files)} files to {out_f_name} ✓✓✓', 'green'))\n",
    "                        except:\n",
    "                            print(colored(f'✘✘✘ The files inside {sub_foldr} are incomplete ✘✘✘', 'red')) # except if, any of the file is corrupted\n",
    "                            crashed_models.append(in_f_name)\n",
    "                    print('\\n \\n \\n ')\n",
    "                    print('Successfully merged/copied and saved as', out_f_name)\n",
    "                    print('\\n \\n \\n ')\n",
    "                else: # if number of files inside model folder is zero\n",
    "                    print('Folder ',sub_foldr,' is empty')\n",
    "                    pass\n",
    "        print(colored('#############################################', 'green'))\n",
    "        print(colored('#                                           #', 'green'))\n",
    "        print(colored('#        Successfully completed Merging     #', 'green'))\n",
    "        print(colored('#                                           #', 'green'))\n",
    "        print(colored('#############################################', 'green'))"
   ]
  },
  {
   "cell_type": "code",
   "execution_count": null,
   "metadata": {
    "ExecuteTime": {
     "end_time": "2023-07-29T16:45:11.318274Z",
     "start_time": "2023-07-29T16:45:11.308267Z"
    }
   },
   "outputs": [],
   "source": [
    "print(f'there is {len(crashed_models)} number of crashed models')\n",
    "print('crashed models are ',crashed_models)"
   ]
  },
  {
   "cell_type": "markdown",
   "metadata": {},
   "source": [
    "# # Making table of models inside the merged folder"
   ]
  },
  {
   "cell_type": "code",
   "execution_count": null,
   "metadata": {
    "ExecuteTime": {
     "end_time": "2023-07-29T07:00:39.590897Z",
     "start_time": "2023-07-29T07:00:39.590888Z"
    },
    "scrolled": true
   },
   "outputs": [],
   "source": [
    "import pandas as pd\n",
    "from cdo import *   # python version\n",
    "cdo = Cdo()\n",
    "import itertools\n",
    "from os import listdir\n",
    "from os.path import isfile, join\n",
    "import re\n",
    "import glob\n",
    "import os\n",
    "import shutil\n",
    "parent_fldr=f'{root_fldr}/merged_data/'\n",
    "os.chdir(parent_fldr)\n",
    "myFiles = glob.glob('*.nc')\n",
    "myFiles.sort()\n",
    "df = pd.DataFrame(columns = ['Models', 'Ensembles', 'Period','Variable','Grid'])\n",
    "var='tos'\n",
    "\n",
    "\n",
    "for file in myFiles:\n",
    "    f=file.split('.')[0]\n",
    "    print(f)\n",
    "    \n",
    "    model=f.split('_')[2]\n",
    "#     print('model is ',model)\n",
    "    ensemble=f.split('_')[4]\n",
    "#     print('ensemble is ',ensemble)\n",
    "    period=f.split('_')[-1]\n",
    "#     print('Period is ', period)\n",
    "    var=f.split('_')[0]\n",
    "#     print('variable is ',var)\n",
    "    grid=f.split('_')[5]\n",
    "#     print('Grid is ', grid)\n",
    "    scenario=f.split('_')[3]\n",
    "    print('scenario is ', scenario)\n",
    "\n",
    "    df=df.append({'Models':model,\n",
    "                  'Ensembles':ensemble,\n",
    "                  'Scenario':scenario,\n",
    "                  'Period':period,\n",
    "                  'Variable':var,\n",
    "                  'Grid':grid},ignore_index = True)\n",
    "\n",
    "\n",
    "    \n",
    "df=df.sort_values(by=['Models','Variable','Ensembles','Scenario']).reset_index(drop=True)\n",
    "df.to_csv(f'{var}.mon.CMIP6.hist.table.csv', index=False)\n",
    "\n",
    "\n",
    "print(len(df))"
   ]
  },
  {
   "cell_type": "code",
   "execution_count": 137,
   "metadata": {
    "ExecuteTime": {
     "end_time": "2023-07-29T15:39:48.841402Z",
     "start_time": "2023-07-29T15:39:48.817368Z"
    }
   },
   "outputs": [
    {
     "data": {
      "text/html": [
       "<div>\n",
       "<style scoped>\n",
       "    .dataframe tbody tr th:only-of-type {\n",
       "        vertical-align: middle;\n",
       "    }\n",
       "\n",
       "    .dataframe tbody tr th {\n",
       "        vertical-align: top;\n",
       "    }\n",
       "\n",
       "    .dataframe thead th {\n",
       "        text-align: right;\n",
       "    }\n",
       "</style>\n",
       "<table border=\"1\" class=\"dataframe\">\n",
       "  <thead>\n",
       "    <tr style=\"text-align: right;\">\n",
       "      <th></th>\n",
       "      <th>Models</th>\n",
       "      <th>Ensembles</th>\n",
       "      <th>Period</th>\n",
       "      <th>Variable</th>\n",
       "      <th>Grid</th>\n",
       "      <th>Scenario</th>\n",
       "    </tr>\n",
       "  </thead>\n",
       "  <tbody>\n",
       "    <tr>\n",
       "      <th>0</th>\n",
       "      <td>ACCESS-ESM1-5</td>\n",
       "      <td>r1i1p1f1</td>\n",
       "      <td>185001-201412</td>\n",
       "      <td>tos</td>\n",
       "      <td>gn</td>\n",
       "      <td>historical</td>\n",
       "    </tr>\n",
       "    <tr>\n",
       "      <th>1</th>\n",
       "      <td>BCC-CSM2-MR</td>\n",
       "      <td>r1i1p1f1</td>\n",
       "      <td>185001-201412</td>\n",
       "      <td>tos</td>\n",
       "      <td>gn</td>\n",
       "      <td>historical</td>\n",
       "    </tr>\n",
       "    <tr>\n",
       "      <th>2</th>\n",
       "      <td>GFDL-CM4</td>\n",
       "      <td>r1i1p1f1</td>\n",
       "      <td>197001-201412</td>\n",
       "      <td>tos</td>\n",
       "      <td>gn</td>\n",
       "      <td>historical</td>\n",
       "    </tr>\n",
       "    <tr>\n",
       "      <th>3</th>\n",
       "      <td>GFDL-ESM4</td>\n",
       "      <td>r1i1p1f1</td>\n",
       "      <td>197001-201412</td>\n",
       "      <td>tos</td>\n",
       "      <td>gn</td>\n",
       "      <td>historical</td>\n",
       "    </tr>\n",
       "    <tr>\n",
       "      <th>4</th>\n",
       "      <td>GISS-E2-1-G</td>\n",
       "      <td>r1i1p1f1</td>\n",
       "      <td>195101-201412</td>\n",
       "      <td>tos</td>\n",
       "      <td>gn</td>\n",
       "      <td>historical</td>\n",
       "    </tr>\n",
       "  </tbody>\n",
       "</table>\n",
       "</div>"
      ],
      "text/plain": [
       "          Models Ensembles         Period Variable Grid    Scenario\n",
       "0  ACCESS-ESM1-5  r1i1p1f1  185001-201412      tos   gn  historical\n",
       "1    BCC-CSM2-MR  r1i1p1f1  185001-201412      tos   gn  historical\n",
       "2       GFDL-CM4  r1i1p1f1  197001-201412      tos   gn  historical\n",
       "3      GFDL-ESM4  r1i1p1f1  197001-201412      tos   gn  historical\n",
       "4    GISS-E2-1-G  r1i1p1f1  195101-201412      tos   gn  historical"
      ]
     },
     "execution_count": 137,
     "metadata": {},
     "output_type": "execute_result"
    }
   ],
   "source": [
    "df"
   ]
  },
  {
   "cell_type": "code",
   "execution_count": 138,
   "metadata": {
    "ExecuteTime": {
     "end_time": "2023-07-29T15:39:50.781217Z",
     "start_time": "2023-07-29T15:39:50.763897Z"
    },
    "scrolled": true
   },
   "outputs": [
    {
     "data": {
      "text/html": [
       "<div>\n",
       "<style scoped>\n",
       "    .dataframe tbody tr th:only-of-type {\n",
       "        vertical-align: middle;\n",
       "    }\n",
       "\n",
       "    .dataframe tbody tr th {\n",
       "        vertical-align: top;\n",
       "    }\n",
       "\n",
       "    .dataframe thead th {\n",
       "        text-align: right;\n",
       "    }\n",
       "</style>\n",
       "<table border=\"1\" class=\"dataframe\">\n",
       "  <thead>\n",
       "    <tr style=\"text-align: right;\">\n",
       "      <th></th>\n",
       "      <th>Models</th>\n",
       "      <th>Ensembles</th>\n",
       "      <th>Period</th>\n",
       "      <th>Variable</th>\n",
       "      <th>Grid</th>\n",
       "      <th>Scenario</th>\n",
       "    </tr>\n",
       "  </thead>\n",
       "  <tbody>\n",
       "    <tr>\n",
       "      <th>0</th>\n",
       "      <td>ACCESS-ESM1-5</td>\n",
       "      <td>r1i1p1f1</td>\n",
       "      <td>185001-201412</td>\n",
       "      <td>tos</td>\n",
       "      <td>gn</td>\n",
       "      <td>historical</td>\n",
       "    </tr>\n",
       "    <tr>\n",
       "      <th>1</th>\n",
       "      <td>BCC-CSM2-MR</td>\n",
       "      <td>r1i1p1f1</td>\n",
       "      <td>185001-201412</td>\n",
       "      <td>tos</td>\n",
       "      <td>gn</td>\n",
       "      <td>historical</td>\n",
       "    </tr>\n",
       "    <tr>\n",
       "      <th>2</th>\n",
       "      <td>GFDL-CM4</td>\n",
       "      <td>r1i1p1f1</td>\n",
       "      <td>197001-201412</td>\n",
       "      <td>tos</td>\n",
       "      <td>gn</td>\n",
       "      <td>historical</td>\n",
       "    </tr>\n",
       "    <tr>\n",
       "      <th>3</th>\n",
       "      <td>GFDL-ESM4</td>\n",
       "      <td>r1i1p1f1</td>\n",
       "      <td>197001-201412</td>\n",
       "      <td>tos</td>\n",
       "      <td>gn</td>\n",
       "      <td>historical</td>\n",
       "    </tr>\n",
       "    <tr>\n",
       "      <th>4</th>\n",
       "      <td>GISS-E2-1-G</td>\n",
       "      <td>r1i1p1f1</td>\n",
       "      <td>195101-201412</td>\n",
       "      <td>tos</td>\n",
       "      <td>gn</td>\n",
       "      <td>historical</td>\n",
       "    </tr>\n",
       "  </tbody>\n",
       "</table>\n",
       "</div>"
      ],
      "text/plain": [
       "          Models Ensembles         Period Variable Grid    Scenario\n",
       "0  ACCESS-ESM1-5  r1i1p1f1  185001-201412      tos   gn  historical\n",
       "1    BCC-CSM2-MR  r1i1p1f1  185001-201412      tos   gn  historical\n",
       "2       GFDL-CM4  r1i1p1f1  197001-201412      tos   gn  historical\n",
       "3      GFDL-ESM4  r1i1p1f1  197001-201412      tos   gn  historical\n",
       "4    GISS-E2-1-G  r1i1p1f1  195101-201412      tos   gn  historical"
      ]
     },
     "execution_count": 138,
     "metadata": {},
     "output_type": "execute_result"
    }
   ],
   "source": [
    "df"
   ]
  },
  {
   "cell_type": "markdown",
   "metadata": {},
   "source": [
    "# Completed downloading above files"
   ]
  },
  {
   "cell_type": "code",
   "execution_count": null,
   "metadata": {},
   "outputs": [],
   "source": []
  },
  {
   "cell_type": "code",
   "execution_count": null,
   "metadata": {},
   "outputs": [],
   "source": []
  }
 ],
 "metadata": {
  "kernelspec": {
   "display_name": "Python 3 (ipykernel)",
   "language": "python",
   "name": "python3"
  },
  "language_info": {
   "codemirror_mode": {
    "name": "ipython",
    "version": 3
   },
   "file_extension": ".py",
   "mimetype": "text/x-python",
   "name": "python",
   "nbconvert_exporter": "python",
   "pygments_lexer": "ipython3",
   "version": "3.9.7"
  },
  "toc": {
   "base_numbering": 1,
   "nav_menu": {},
   "number_sections": true,
   "sideBar": true,
   "skip_h1_title": false,
   "title_cell": "Table of Contents",
   "title_sidebar": "Contents",
   "toc_cell": false,
   "toc_position": {},
   "toc_section_display": true,
   "toc_window_display": false
  }
 },
 "nbformat": 4,
 "nbformat_minor": 4
}
